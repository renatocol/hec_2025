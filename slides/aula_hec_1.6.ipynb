{
 "cells": [
  {
   "cell_type": "markdown",
   "metadata": {
    "editable": true,
    "jp-MarkdownHeadingCollapsed": true,
    "slideshow": {
     "slide_type": "slide"
    },
    "tags": []
   },
   "source": [
    "## <center>História Econômica da Escravidão - FEA-USP</center>\n",
    "\n",
    "### <center>Aula 1.6 - Os brasileiros no tráfico africano</center>\n",
    "\n",
    "#### <center>Mapas e dados de apoio</center>\n",
    "\n",
    "#### <center>Renato Perim Colistete</center>\n",
    "\n",
    "\n",
    "#### <center>2025</center>"
   ]
  },
  {
   "cell_type": "markdown",
   "metadata": {
    "editable": true,
    "slideshow": {
     "slide_type": "slide"
    },
    "tags": []
   },
   "source": [
    "## Mapas\n",
    "\n",
    "A seguir, os mapas e dados de apoio para aula do tópico. Veja também as perguntas adicionadas ao final."
   ]
  },
  {
   "cell_type": "markdown",
   "metadata": {
    "slideshow": {
     "slide_type": "fragment"
    }
   },
   "source": [
    "A consulta aos mapas durante a leitura é altamente recomendada para identificar visualmente características geográficas, localidades e rotas citadas nos textos. "
   ]
  },
  {
   "cell_type": "markdown",
   "metadata": {
    "editable": true,
    "slideshow": {
     "slide_type": "slide"
    },
    "tags": []
   },
   "source": [
    "### <center>Mapa Brasil</center>\n",
    "\n",
    "<center><img src=\"1.6_mapa_brasil_miller_12.1.png\" width=\"500\"></center>"
   ]
  },
  {
   "cell_type": "markdown",
   "metadata": {},
   "source": [
    "### <center>Origem e destino dos escravizados na costa da África e Brasil</center>\n",
    "\n",
    "<center><img src=\"1.6_african_sources_miller_12.2.png\" width=\"700\"></center>"
   ]
  },
  {
   "cell_type": "markdown",
   "metadata": {
    "editable": true,
    "slideshow": {
     "slide_type": "slide"
    },
    "tags": []
   },
   "source": [
    "### <center>Correntes, ventos e rotas do Atlântico Sul</center>\n",
    "\n",
    "<center><img src=\"1.4_sailing_routes_miller_10.1.png\" width=\"400\"></center>"
   ]
  },
  {
   "cell_type": "markdown",
   "metadata": {},
   "source": [
    "### <center>Taxas de retorno das vendas de escravizados no Brasil</center>\n",
    "\n",
    "<center><img src=\"1.6_returns_slaved_miller_12.1.png\" width=\"600\"></center>"
   ]
  },
  {
   "cell_type": "markdown",
   "metadata": {
    "editable": true,
    "slideshow": {
     "slide_type": "slide"
    },
    "tags": []
   },
   "source": [
    "## Dados básicos\n",
    "\n",
    "A seguir, dados selecionados de Miller (1989), cap. 12."
   ]
  },
  {
   "cell_type": "markdown",
   "metadata": {
    "editable": true,
    "slideshow": {
     "slide_type": "slide"
    },
    "tags": []
   },
   "source": [
    "### Vocabulário I\n",
    "\n",
    "Factors (no texto original) = comissários.\n",
    "\n",
    "Gerebita (ou jerebita, aguardente da terra) = aguardente de cana, cachaça.\n",
    "\n",
    "Letter of exchange ou bill of exchange = letra de câmbio (emitida pelos comerciantes luso-africanos em Luanda em contrapartida de diferença (dívida) nas transações de escravizados x produtos com negociantes da metrópole; descontadas por agentes desses negociantes após a venda (pelos luso-africanos) de escravizados em Salvador, Recife e Rio).\n",
    "\n",
    "Praças = espaço vendido nas embarcações com escravizados saindo de Angola para o Brasil; valores subiram durante o boom do ouro nos anos 1700-1720, alcançando de `12$000` a `15$000` por escravizado (contra frete oficial de `5$000` a `6$000` por escravizado)."
   ]
  },
  {
   "cell_type": "markdown",
   "metadata": {
    "editable": true,
    "slideshow": {
     "slide_type": "slide"
    },
    "tags": []
   },
   "source": [
    "### Vocabulário II\n",
    "\n",
    "Banzo i, primeiro significado: mix, pacote (bundle) de produtos utilizados por negociantes portugueses nas trocas por escravizados fornecidos por luso-africanos e chefes africanos do interior. Compreendiam: farinha de mandioca, gerebica, tabaco, espelho, tecido grosso, etc.\n",
    "\n",
    "Banzo ii, segundo significado: estado de delírio e desespero de escravizados durante a travessia do Atlântico, devido à subnutrição.\n",
    "\n",
    "Engenhoca: pequenos engenhos especializados na produção de gerebita no Rio de Janeiro.\n",
    "\n",
    "Sociedade: associação de negociantes para o empreendimento do tráfico transatlântico, envolvendo negociantes, proprietários de embarcações, capitães, fazendeiros, importadores e funcionários, repartindo o % do lucro líquido correspondente ao investimento."
   ]
  },
  {
   "cell_type": "markdown",
   "metadata": {
    "editable": true,
    "slideshow": {
     "slide_type": "subslide"
    },
    "tags": []
   },
   "source": [
    "### Importância do tráfico transatlântico na economia\n",
    "\n",
    "Aparentemente, o tráfico de africanos foi comparativamente marginal em relação ao volume total do comércio entre o Brasil e a metrópole portuguesa e até mesmo em relação ao comércio de cabotagem intracolonial. Porém, na economia do ouro do século XVIII sua importância pode ter sido maior no Rio de Janeiro.\n",
    "\n",
    "Em Pernambuco, o valor das exportações de açúcar era quase o dobro do valor estimado dos escravizados desembarcados no porto de Recife. \n",
    "\n",
    "Na Bahia, o comércio relacionado aos escravizados representou cerca de 5 a 6% das exportações e 18 a 20% das importações."
   ]
  },
  {
   "cell_type": "markdown",
   "metadata": {
    "editable": true,
    "slideshow": {
     "slide_type": "slide"
    },
    "tags": []
   },
   "source": [
    "### Medidas para gerebita\n",
    "\n",
    "Pipa = recipiente, barril para transporte de gerebita nos navios para a África.\n",
    "\n",
    "1 pipa = 300–360 canadas; com 1 canada = 1,67 litro, 1 pipa = 500–600 litros\n",
    "\n",
    "1 pipa = 300–360 canadas; com 1 canada = 1,41250 litro, 1 pipa = 424–509 litros\n",
    "\n",
    "Frasqueira = recipiente para transporte de geribita para o interior de Angola;\n",
    "\n",
    "1 frasqueira = 1/16 pipa = 31 a 38 litros (se 1 canada = 1,67 litros) ou = 26,5 a 31,8 litros (se 1 canada = 1,41250 litro)."
   ]
  },
  {
   "cell_type": "markdown",
   "metadata": {
    "editable": true,
    "slideshow": {
     "slide_type": "slide"
    },
    "tags": []
   },
   "source": [
    "### Produtos do comércio com a África\n",
    "\n",
    "De 1785 a 1820, as importações de gerebita no porto de Luanda corresponderam a mais de 2/3 de todas as compras oriundas do Brasil e 15% do total das importações de Luanda.\n",
    "\n",
    "Outros produtos vendidos da região do Rio para Luanda: farinha de mandioca, arroz, feijão e açúcar, além de produtos do sul do Brasil, como peles, manufaturados de couro, e de outras regiões, como queijos, madeira e mobiliário.\n",
    "\n",
    "Benguela: no século XVIII, passou a ser dominada pelo comércio do Rio; 80-90% do embarque de escravizados tinham o RJ como destino."
   ]
  },
  {
   "cell_type": "markdown",
   "metadata": {
    "editable": true,
    "slideshow": {
     "slide_type": "slide"
    },
    "tags": []
   },
   "source": [
    "### Estimativa de lucros dos traficantes angolanos no mercado do Rio, século XVIII\n",
    "\n",
    "Preço de venda de africanos no Rio, \"primeira escolha\" = aproximadamente 200$000 (inferido).\n",
    "\n",
    "Os escravizados eram vendidos, em média, a 75% do preço inicial, isto é, a `200$000`(preço inicial em Luanda implicitamente = 50$000).\n",
    "\n",
    "Custo assumido de mortalidade no transporte de 20% sobre todos os custos F.O.B. até o Brasil, idem de 20% para mortalidade durante espera e revenda, além de custos de embarque e transporte.\n",
    "\n",
    "Total estimado de custos: aproximadamente `102$600` (arredondado). Lucro bruto: 47$400 por escravizado vendido; margem de 46% aproximadamente."
   ]
  }
 ],
 "metadata": {
  "celltoolbar": "Slideshow",
  "kernelspec": {
   "display_name": "Python 3 (ipykernel)",
   "language": "python",
   "name": "python3"
  },
  "language_info": {
   "codemirror_mode": {
    "name": "ipython",
    "version": 3
   },
   "file_extension": ".py",
   "mimetype": "text/x-python",
   "name": "python",
   "nbconvert_exporter": "python",
   "pygments_lexer": "ipython3",
   "version": "3.9.23"
  },
  "toc": {
   "base_numbering": 1,
   "nav_menu": {},
   "number_sections": false,
   "sideBar": true,
   "skip_h1_title": true,
   "title_cell": "Table of Contents",
   "title_sidebar": "Contents",
   "toc_cell": false,
   "toc_position": {},
   "toc_section_display": true,
   "toc_window_display": false
  }
 },
 "nbformat": 4,
 "nbformat_minor": 4
}
