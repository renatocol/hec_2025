{
 "cells": [
  {
   "cell_type": "markdown",
   "metadata": {
    "editable": true,
    "jp-MarkdownHeadingCollapsed": true,
    "slideshow": {
     "slide_type": "slide"
    },
    "tags": []
   },
   "source": [
    "## <center>História Econômica da Escravidão - FEA-USP</center>\n",
    "\n",
    "### <center>Aula 3.2 População</center>\n",
    "\n",
    "#### <center>Figuras e dados de apoio</center>\n",
    "\n",
    "#### <center>Renato Perim Colistete</center>\n",
    "\n",
    "\n",
    "#### <center>2025</center>"
   ]
  },
  {
   "cell_type": "markdown",
   "metadata": {
    "editable": true,
    "slideshow": {
     "slide_type": "slide"
    },
    "tags": []
   },
   "source": [
    "## Figuras e dados\n",
    "\n",
    "A seguir, as figuras e dados de apoio para aula do tópico. Veja também as perguntas adicionadas ao final."
   ]
  },
  {
   "cell_type": "markdown",
   "metadata": {
    "editable": true,
    "slideshow": {
     "slide_type": "fragment"
    },
    "tags": []
   },
   "source": [
    "A consulta aos mapas durante a leitura é altamente recomendada para identificar visualmente características geográficas, localidades e rotas citadas nos textos. "
   ]
  },
  {
   "attachments": {},
   "cell_type": "markdown",
   "metadata": {
    "editable": true,
    "jp-MarkdownHeadingCollapsed": true,
    "slideshow": {
     "slide_type": "slide"
    },
    "tags": []
   },
   "source": [
    "### <center>Mapa do Caribe Britânico, 1900</center>\n",
    "\n",
    "<center><img src=\"3.2_map_british_caribbean_1900.jpg\" width=\"700\"></center>"
   ]
  },
  {
   "attachments": {},
   "cell_type": "markdown",
   "metadata": {
    "editable": true,
    "jp-MarkdownHeadingCollapsed": true,
    "slideshow": {
     "slide_type": "slide"
    },
    "tags": []
   },
   "source": [
    "### <center>Mapa das colônias do Caribe, 1814</center>\n",
    "\n",
    "<center><img src=\"3.1_map_caribbean_1814.jpg\" width=\"600\"></center>"
   ]
  },
  {
   "attachments": {},
   "cell_type": "markdown",
   "metadata": {
    "editable": true,
    "slideshow": {
     "slide_type": "slide"
    },
    "tags": []
   },
   "source": [
    "### <center>Evolução da população do Caribe Britânico, Barbados e Demerara-Essequibo</center>\n",
    "\n",
    "<center><img src=\"3.2_total_br_caribbean_pop_higman_4.1.png\" width=\"600\"></center>"
   ]
  },
  {
   "attachments": {},
   "cell_type": "markdown",
   "metadata": {
    "editable": true,
    "slideshow": {
     "slide_type": "slide"
    },
    "tags": []
   },
   "source": [
    "### <center>Porcentagem da população escravizada das colônias britânicas</center>\n",
    "\n",
    "<center><img src=\"3.2_dist_slaved_pop_br_caribbean_higman_4.1.png\" width=\"600\"></center>"
   ]
  },
  {
   "attachments": {},
   "cell_type": "markdown",
   "metadata": {
    "editable": true,
    "slideshow": {
     "slide_type": "slide"
    },
    "tags": []
   },
   "source": [
    "### <center>Crescimento da população escravizada das colônias</center>\n",
    "\n",
    "<center><img src=\"3.2_crescimento_pop_br_caribbean_higman_4.2.png\" width=\"600\"></center>"
   ]
  },
  {
   "attachments": {},
   "cell_type": "markdown",
   "metadata": {
    "editable": true,
    "jp-MarkdownHeadingCollapsed": true,
    "slideshow": {
     "slide_type": "slide"
    },
    "tags": []
   },
   "source": [
    "### <center>Composição da população das colônias</center>\n",
    "\n",
    "<center><img src=\"3.2_composição_pop_br_caribbean_higman_4.2.png\" width=\"400\"></center>"
   ]
  },
  {
   "attachments": {},
   "cell_type": "markdown",
   "metadata": {
    "editable": true,
    "slideshow": {
     "slide_type": "slide"
    },
    "tags": []
   },
   "source": [
    "### <center>Ranking do rendimento do trabalho escravizado das colônias</center>\n",
    "\n",
    "<center><img src=\"3.2_ranking_rendimentos_higman_4.3.png\" width=\"500\"></center>"
   ]
  },
  {
   "attachments": {},
   "cell_type": "markdown",
   "metadata": {
    "editable": true,
    "slideshow": {
     "slide_type": "slide"
    },
    "tags": []
   },
   "source": [
    "### <center>Distribuição espacial da população cativa nas colônias antigas</center>\n",
    "\n",
    "<center><img src=\"3.2_dist_espacial_old_sugar_higman_4.3.png\" width=\"300\"></center>"
   ]
  },
  {
   "attachments": {},
   "cell_type": "markdown",
   "metadata": {
    "editable": true,
    "slideshow": {
     "slide_type": "slide"
    },
    "tags": []
   },
   "source": [
    "### <center>Distribuição espacial da população cativa nas Ilhas Windward e Tobago</center>\n",
    "\n",
    "<center><img src=\"3.2_dist_espacial_windward_tobago_higman_4.3.png\" width=\"300\"></center>"
   ]
  },
  {
   "attachments": {},
   "cell_type": "markdown",
   "metadata": {
    "editable": true,
    "slideshow": {
     "slide_type": "slide"
    },
    "tags": []
   },
   "source": [
    "### <center>Distribuição espacial da população cativa em Demerara-Essequibo e Berbice</center>\n",
    "\n",
    "<center><img src=\"3.2_dist_espacial_demerara_berbice_higman_4.6.png\" width=\"350\"></center>"
   ]
  },
  {
   "attachments": {},
   "cell_type": "markdown",
   "metadata": {
    "editable": true,
    "slideshow": {
     "slide_type": "slide"
    },
    "tags": []
   },
   "source": [
    "### <center>Maiores cidades com população cativa urbana nas colônias</center>\n",
    "\n",
    "<center><img src=\"3.2_maiores_cidades_higman_4.4.png\" width=\"500\"></center>"
   ]
  },
  {
   "cell_type": "markdown",
   "metadata": {
    "editable": true,
    "slideshow": {
     "slide_type": "slide"
    },
    "tags": []
   },
   "source": [
    "## Dados básicos\n",
    "\n",
    "A seguir, dados selecionados de Higman (1984), cap. 4."
   ]
  },
  {
   "cell_type": "markdown",
   "metadata": {
    "editable": true,
    "slideshow": {
     "slide_type": "slide"
    },
    "tags": []
   },
   "source": [
    "## Crescimento e declínio populacional\n",
    "\n",
    "O período 1807-1834 no Caribe britânico foi marcado por declínio absoluto da população cativa após a abolição do tráfico transatlântico em 1807 - de 775.000 para 665.000 escravizados aproximadamente (-0,5% a.a.)\n",
    "\n",
    "A causa principal foi o próprio fim do tráfico, uma vez que o fator dominante na expansão demográfica foi a importação contínua de africanos e o crescimento natural era geralmente negativo.\n",
    "\n",
    "Declínio, porém, foi heterogêneo: maior queda nas novas colônias açucareiras (como Demerara-Essequibo, Berbice, Trinidad) = -25,3%; redução intermediária em Jamaica (-10,8%); menor declínio nas antigas (como Barbados, Antígua, St. Kittis, Nevis) (-4,4%) e resultado relativamente estável em colônias marginais (como Bahamas, Honduras Britânica, Caiman) (-0,1%)."
   ]
  },
  {
   "cell_type": "markdown",
   "metadata": {
    "editable": true,
    "slideshow": {
     "slide_type": "subslide"
    },
    "tags": []
   },
   "source": [
    "## Composição da população\n",
    "\n",
    "As tendências de crescimento entre escravizados, libertos e brancos também divergiram entre 1810 e 1830.\n",
    "\n",
    "Queda do número de escravizados no período (-10%), idem para os brancos (-12%), mas grande crescimento da população liberta (freedmen) (+70%).\n",
    "\n",
    "O número de libertos alcançou 11% e superou o de brancos em 1830. "
   ]
  },
  {
   "cell_type": "markdown",
   "metadata": {
    "editable": true,
    "slideshow": {
     "slide_type": "fragment"
    },
    "tags": []
   },
   "source": [
    "Importante: as manumissões explicam menos da metade do declínio absoluto de escravizados. O fator decisivo foi a mortalidade superior à natalidade."
   ]
  },
  {
   "cell_type": "markdown",
   "metadata": {
    "editable": true,
    "slideshow": {
     "slide_type": "slide"
    },
    "tags": []
   },
   "source": [
    "## Transferências intercoloniais\n",
    "\n",
    "Resumo da legislação regulando a transferência de escravizados entre colônias: \n",
    "\n",
    "1807: licenças obrigatórias para transferências, limite de 3% da pop da colônia exportadora (com exceções como domésticos e quem trabalhava em embarcações).\n",
    "\n",
    "1818: relaxamento para Demerara-Essequibo.\n",
    "\n",
    "1825-1828: apenas licenças do Privy Council britânico.\n",
    "\n",
    "Após 1828: proibição total, exceto domésticos."
   ]
  },
  {
   "cell_type": "markdown",
   "metadata": {
    "editable": true,
    "slideshow": {
     "slide_type": "slide"
    },
    "tags": []
   },
   "source": [
    "## Características das transferências\n",
    "\n",
    "As transferências não foram enviesadas/seletivas em termos de sexo e idade, refletindo a estrutura demográfica existente.\n",
    "\n",
    "Em grande parte, os grupos familiares tenderam a ser mantidos juntos, reflexo de requisito legal de 1818.\n",
    "\n",
    "A maioria dos que foram transferidos pertencia a grandes proprietários de cativos (>100 escravizados)."
   ]
  },
  {
   "cell_type": "markdown",
   "metadata": {
    "editable": true,
    "slideshow": {
     "slide_type": "subslide"
    },
    "tags": []
   },
   "source": [
    "## Distribuição espacial\n",
    "\n",
    "Grande variedade na distribuição espacial de escravizados entre as colônias.\n",
    "\n",
    "Nas colônias antigas açucareiras: > 200 escravizados/milha quadrada, com Barbados com a maior densidade (>500 esc/milha quadrada).\n",
    "\n",
    "Nas novas colônias, densidade bem menor, entre 11 a 178 escravizados/milha quadrada (Trinidad = 11)."
   ]
  },
  {
   "cell_type": "markdown",
   "metadata": {
    "editable": true,
    "slideshow": {
     "slide_type": "subslide"
    },
    "tags": []
   },
   "source": [
    "Nas colônias marginais, densidade ainda menor em geral <10 escravizados/milha quadrada.\n",
    "\n",
    "Em resumo, a densidade demográfica de cativos correlacionou-se ao percentual de terras dedicadas à produção açucareira, embora tenham havido exceções."
   ]
  },
  {
   "cell_type": "markdown",
   "metadata": {
    "editable": true,
    "jp-MarkdownHeadingCollapsed": true,
    "slideshow": {
     "slide_type": "slide"
    },
    "tags": []
   },
   "source": [
    "## Concentração urbana\n",
    "\n",
    "Aproximadamente 9% dos escravizados do Caribe britânico viviam em núcleos urbanos e 6% nos 8 maiores centros - proporção superior à dos Estados Unidos em 1830 (2,4 %).\n",
    "\n",
    "Porém, houve declínio da população cativa urbana após 1810, devido ao fim do tráfico e à crise do açúcar, exceto em Georgetown, que cresceu como centro administrativo.\n",
    "\n",
    "Nas cidades maiores, parte dos escravos morava em áreas segregadas de trabalhadores de ganho; nas menores, viviam em geral nas propriedades dos senhores."
   ]
  },
  {
   "cell_type": "markdown",
   "metadata": {
    "editable": true,
    "slideshow": {
     "slide_type": "slide"
    },
    "tags": []
   },
   "source": [
    "## Questões\n",
    "\n",
    "Compare o impacto demográfico da abolição do tráfico atlântico (1807) sobre as diferentes categorias de colônias britânicas no Caribe. Por que as \"novas colônias açucareiras\" sofreram declínio populacional muito maior do que as antigas colônias açucareiras entre 1807-1834?\n",
    "\n",
    "Explique por que o tráfico interno intercolonial não conseguiu reproduzir os efeitos do tráfico atlântico em termos de: (a) volume; (b) seletividade demográfica; e (c) impacto sobre o crescimento populacional.\n",
    "\n",
    "Analise o padrão de redistribuição espacial da população escravizada dentro das colônias entre 1807-1834. Quais foram as características comuns da migração interna e qual foi a principal exceção a esse padrão?"
   ]
  }
 ],
 "metadata": {
  "celltoolbar": "Slideshow",
  "kernelspec": {
   "display_name": "Python 3 (ipykernel)",
   "language": "python",
   "name": "python3"
  },
  "language_info": {
   "codemirror_mode": {
    "name": "ipython",
    "version": 3
   },
   "file_extension": ".py",
   "mimetype": "text/x-python",
   "name": "python",
   "nbconvert_exporter": "python",
   "pygments_lexer": "ipython3",
   "version": "3.13.7"
  },
  "toc": {
   "base_numbering": 1,
   "nav_menu": {},
   "number_sections": false,
   "sideBar": true,
   "skip_h1_title": true,
   "title_cell": "Table of Contents",
   "title_sidebar": "Contents",
   "toc_cell": false,
   "toc_position": {},
   "toc_section_display": true,
   "toc_window_display": false
  }
 },
 "nbformat": 4,
 "nbformat_minor": 4
}
