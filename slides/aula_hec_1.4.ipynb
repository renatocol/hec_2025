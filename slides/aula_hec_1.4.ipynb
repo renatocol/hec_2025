{
 "cells": [
  {
   "cell_type": "markdown",
   "metadata": {
    "editable": true,
    "jp-MarkdownHeadingCollapsed": true,
    "slideshow": {
     "slide_type": "slide"
    },
    "tags": []
   },
   "source": [
    "## <center>História Econômica da Escravidão - FEA-USP</center>\n",
    "\n",
    "### <center>Aula 1.4 - Tumbeiros</center>\n",
    "\n",
    "#### <center>Mapas e dados de apoio</center>\n",
    "\n",
    "#### <center>Renato Perim Colistete</center>\n",
    "\n",
    "\n",
    "#### <center>2025</center>"
   ]
  },
  {
   "cell_type": "markdown",
   "metadata": {
    "editable": true,
    "slideshow": {
     "slide_type": "slide"
    },
    "tags": []
   },
   "source": [
    "## Mapas\n",
    "\n",
    "A seguir, os mapas e dados de apoio para aula do tópico. Veja também as perguntas adicionadas ao final."
   ]
  },
  {
   "cell_type": "markdown",
   "metadata": {
    "slideshow": {
     "slide_type": "fragment"
    }
   },
   "source": [
    "A consulta aos mapas durante a leitura é altamente recomendada para identificar visualmente características geográficas, localidades e rotas citadas nos textos. "
   ]
  },
  {
   "cell_type": "markdown",
   "metadata": {
    "editable": true,
    "jp-MarkdownHeadingCollapsed": true,
    "slideshow": {
     "slide_type": "slide"
    },
    "tags": []
   },
   "source": [
    "### <center>Correntes, ventos e rotas do Atlântico Sul</center>\n",
    "\n",
    "<center><img src=\"1.4_sailing_routes_miller_10.1.png\" width=\"400\"></center>"
   ]
  },
  {
   "cell_type": "markdown",
   "metadata": {
    "editable": true,
    "slideshow": {
     "slide_type": "slide"
    },
    "tags": []
   },
   "source": [
    "### <center>Capacidade das embarcações</center>\n",
    "\n",
    "<center><img src=\"1.4_vessels_capacity_miller_10.1.png\" width=\"500\"></center>"
   ]
  },
  {
   "cell_type": "markdown",
   "metadata": {
    "editable": true,
    "slideshow": {
     "slide_type": "slide"
    },
    "tags": []
   },
   "source": [
    "### <center>Crianças embarcadas em Luanda</center>\n",
    "\n",
    "<center><img src=\"1.4_children_shipped_miller_10.2.png\" width=\"500\"></center>"
   ]
  },
  {
   "cell_type": "markdown",
   "metadata": {
    "editable": true,
    "slideshow": {
     "slide_type": "slide"
    },
    "tags": []
   },
   "source": [
    "### <center>Tipos de embarcações do tráfico transatlântico</center>\n",
    "\n",
    "<center><img src=\"1.4_ships_types_miller_10.1.png\" width=\"600\"></center>"
   ]
  },
  {
   "cell_type": "markdown",
   "metadata": {
    "editable": true,
    "slideshow": {
     "slide_type": "slide"
    },
    "tags": []
   },
   "source": [
    "## Dados básicos\n",
    "\n",
    "A seguir, dados selecionados de Miller (1989), cap. 10."
   ]
  },
  {
   "cell_type": "markdown",
   "metadata": {
    "editable": true,
    "slideshow": {
     "slide_type": "slide"
    },
    "tags": []
   },
   "source": [
    "### Alguns termos\n",
    "\n",
    "Factors (no texto original) = comissários\n",
    "\n",
    "Gerebita (ou jerebita, aguardente da terra) = aguardente de cana, cachaça\n",
    "\n",
    "Efeitos próprios = navios com carga própria com prioridade de saída do porto de Luanda, controlados por portugueses da Metrópole\n",
    "\n",
    "Fretados = navios com carga de terceiros, embarcados com escravizados e geralmente de propriedade de brasileiros"
   ]
  },
  {
   "cell_type": "markdown",
   "metadata": {
    "editable": true,
    "slideshow": {
     "slide_type": "slide"
    },
    "tags": []
   },
   "source": [
    "### Mortalidade\n",
    "\n",
    "Na viagem transatlântica, os escravizados geralmente superavam a tripulação em proporções de dez ou mais para um.\n",
    "\n",
    "Mortalidade em navios do Rio de Janeiro atingiu uma mortalidade de escravizados de 10% nos anos de 1790; em condições regulares, a mortalidade ficou entre 3% a 5%.\n",
    "\n",
    "Aumento da mortalidade devido à superlotação em viagens que ocorreram dentro do tempo previsto foi apenas moderado."
   ]
  },
  {
   "cell_type": "markdown",
   "metadata": {
    "editable": true,
    "slideshow": {
     "slide_type": "slide"
    },
    "tags": []
   },
   "source": [
    "### Fretes\n",
    "\n",
    "Fretes máximos fixados por legislação da Metrópole. \n",
    "\n",
    "Antes de 1864: `4$000 réis`; `5$000 réis` (lei de 1684); `6$000` réis (comum no século XVIII). \n",
    "\n",
    "Com evasão e cobranças extras paralelas pelos traficantes: até 12$800 réis no final XVIII e início do XIX."
   ]
  },
  {
   "cell_type": "markdown",
   "metadata": {
    "editable": true,
    "slideshow": {
     "slide_type": "slide"
    },
    "tags": []
   },
   "source": [
    "### Rotas do Atlântico Sul e Tempos de Viagem\n",
    "\n",
    "Viagem de Portugal para o Rio de Janeiro durava até 40 dias ou menos para Pernambuco e Bahia.\n",
    "\n",
    "Navios brasileiros para Angola levavam de 40 a 60 dias, dependendo da época do ano.\n",
    "\n",
    "A rota mais curta de Portugal para Angola, evitando a costa brasileira e com desvio antes da linha do Equador (a partir dos anos 1790), reduziu o tempo total de viagem de 90-120 dias para 70 dias ou menos.\n",
    "\n",
    "A viagem de Benguela para Luanda levava 3 a 4 dias de navegação fácil; porém, o trajeto oposto era difícil, contra a corrente de Benguela, e demorada."
   ]
  },
  {
   "cell_type": "markdown",
   "metadata": {
    "editable": true,
    "slideshow": {
     "slide_type": "slide"
    },
    "tags": []
   },
   "source": [
    "### Cálculo legal de transporte de escravizados\n",
    "\n",
    "\"Arqueação\" ou \"lotação\" era o termo técnico para a capacidade definida legalmente de transporte de escravizados em uma embarcação.\n",
    "\n",
    "Tight-Packing (termo em inglês) usado de maneira mais geral em relação às determinações legais e estratégias de transporte por comerciantes e proprietários dos tumbeiros.\n",
    "\n",
    "P.ex., limites de transporte segundo a lei de 1864, oficialmente: \n",
    "\n",
    "- espaços no convés ao ar livre: 5 crianças ou mulheres por tonelada;\n",
    "\n",
    "- convés coberto com aberturas: 7 adultos por duas toneladas;\n",
    "\n",
    "- espaços sem aberturas: 5 adultos por duas toneladas;\n",
    "\n",
    "- bebês (\"crias de peito\") não eram contados."
   ]
  },
  {
   "cell_type": "markdown",
   "metadata": {
    "editable": true,
    "slideshow": {
     "slide_type": "slide"
    },
    "tags": []
   },
   "source": [
    "### Lotação como estratégia\n",
    "\n",
    "O Tight-Packing raramente excedia 10% da capacidade legal.\n",
    "\n",
    "Em um navio hipotético de 400 escravizados, o Tight-Packing de 10% (40 pessoas adicionais) resultaria em perdas incrementais de 12 a 20 escravizados.\n",
    "\n",
    "Esse Tight-Packing renderia 20 a 28 escravizados adicionais vivos, com lucros de `120$000` a `148$000` em fretes.\n",
    "\n",
    "No início do século XIX, se um navio de 400 escravizados transportasse 440, a perda incremental de 5% de mortes custaria `2.400$000` da receita."
   ]
  },
  {
   "cell_type": "markdown",
   "metadata": {
    "editable": true,
    "slideshow": {
     "slide_type": "slide"
    },
    "tags": []
   },
   "source": [
    "### Lotação como estratégia\n",
    "\n",
    "Nos anos 1720, 1730 e 1740 a lotação poderia chegar a cerca de 20% acima dos padrões de 1684.\n",
    "\n",
    "Nos anos 1750 e 1760, esse excesso foi reduzido para 5 a 15%.\n",
    "\n",
    "Os capitães dos navios convergiam para uma lotação além do limite legal de um terço ou talvez 50%."
   ]
  },
  {
   "cell_type": "markdown",
   "metadata": {
    "editable": true,
    "jp-MarkdownHeadingCollapsed": true,
    "slideshow": {
     "slide_type": "slide"
    },
    "tags": []
   },
   "source": [
    "### Tipos e tamanhos de navios\n",
    "\n",
    "Diferentes tipos e capacidade das embarcações, distinguindo-se aquelas de Lisboa (grande e médio porte) e do Brasil (médio e menor porte)\n",
    "\n",
    "Grande porte: galera, navio, barca; médio porte: bergantim, corveta; pequeno porte: brigue, patacho, sumaca.\n",
    "\n",
    "Cálculo de eficiência: escravizados/tonelada e escravizados/tripulação.\n",
    "\n",
    "Na década de 1820 (amostra de 43 navios de Lisboa para Angola), bergantins = 47,6% do comércio, galeras = 21,4%, navios = 7,1%, e brigues e brigue-escunas = 9,5% do total."
   ]
  },
  {
   "cell_type": "markdown",
   "metadata": {
    "editable": true,
    "slideshow": {
     "slide_type": "slide"
    },
    "tags": []
   },
   "source": [
    "## Questões\n",
    "\n",
    "Avalie como a limitação de capital dos traficantes brasileiros e a regulamentação dos fretes do transporte de escravizados afetaram as estratégias operacionais dos navios/proprietários brasileiros no comércio de escravizados do Atlântico Sul, especialmente em comparação com os negociantes de Lisboa?\n",
    "\n",
    "De que forma os tempos de viagem e as condições marítimas no Atlântico Sul influenciaram as rotas e a frequência das viagens dos navios negreiros, e qual o impacto da sazonalidade nas operações dos tumbeiros?\n",
    "\n",
    "Como a evolução na construção e tipo dos tumbeiros, incluindo a preferência bergantins, buscou otimizar a capacidade de transporte e a eficiência da tripulação ao longo do século XVIII e início do XIX?"
   ]
  },
  {
   "cell_type": "markdown",
   "metadata": {
    "editable": true,
    "slideshow": {
     "slide_type": "subslide"
    },
    "tags": []
   },
   "source": [
    "Como o sistema de frete e transporte permitia que múltiplos proprietários dividissem a carga de escravizados. O que eram e qual o papel das letras de câmbio emitidas pelos luso-aficanos?\n",
    "\n",
    "De que forma os traficantes e proprietários de navios compensavam as perdas causadas pelos baixos fretes, especialmente no que diz respeito ao número de escravizados embarcados?"
   ]
  }
 ],
 "metadata": {
  "celltoolbar": "Slideshow",
  "kernelspec": {
   "display_name": "Python 3 (ipykernel)",
   "language": "python",
   "name": "python3"
  },
  "language_info": {
   "codemirror_mode": {
    "name": "ipython",
    "version": 3
   },
   "file_extension": ".py",
   "mimetype": "text/x-python",
   "name": "python",
   "nbconvert_exporter": "python",
   "pygments_lexer": "ipython3",
   "version": "3.9.23"
  },
  "toc": {
   "base_numbering": 1,
   "nav_menu": {},
   "number_sections": false,
   "sideBar": true,
   "skip_h1_title": true,
   "title_cell": "Table of Contents",
   "title_sidebar": "Contents",
   "toc_cell": false,
   "toc_position": {},
   "toc_section_display": true,
   "toc_window_display": false
  }
 },
 "nbformat": 4,
 "nbformat_minor": 4
}
