{
 "cells": [
  {
   "cell_type": "markdown",
   "metadata": {
    "editable": true,
    "jp-MarkdownHeadingCollapsed": true,
    "slideshow": {
     "slide_type": "slide"
    },
    "tags": []
   },
   "source": [
    "## <center>História Econômica da Escravidão - FEA-USP</center>\n",
    "\n",
    "### <center>Aula 2.6 Demografia</center>\n",
    "\n",
    "#### <center>Mapas e dados de apoio</center>\n",
    "\n",
    "#### <center>Renato Perim Colistete</center>\n",
    "\n",
    "\n",
    "#### <center>2025</center>"
   ]
  },
  {
   "cell_type": "markdown",
   "metadata": {
    "editable": true,
    "slideshow": {
     "slide_type": "slide"
    },
    "tags": []
   },
   "source": [
    "## Mapas\n",
    "\n",
    "A seguir, as figuras e dados de apoio para aula do tópico. Veja também as perguntas adicionadas ao final."
   ]
  },
  {
   "cell_type": "markdown",
   "metadata": {
    "editable": true,
    "slideshow": {
     "slide_type": "fragment"
    },
    "tags": []
   },
   "source": [
    "A consulta aos mapas durante a leitura é altamente recomendada para identificar visualmente características geográficas, localidades e rotas citadas nos textos. "
   ]
  },
  {
   "attachments": {},
   "cell_type": "markdown",
   "metadata": {
    "editable": true,
    "slideshow": {
     "slide_type": "slide"
    },
    "tags": []
   },
   "source": [
    "### <center>Crescimento natural de populações livres e escravizadas</center>\n",
    "\n",
    "<center><img src=\"2.6_pop_increase_fogel_19.png\" width=\"400\"></center>"
   ]
  },
  {
   "attachments": {},
   "cell_type": "markdown",
   "metadata": {
    "editable": true,
    "slideshow": {
     "slide_type": "slide"
    },
    "tags": []
   },
   "source": [
    "### <center>Taxas de natalidade e mortalidade de escravizados em três regiões</center>\n",
    "\n",
    "<center><img src=\"2.6_birth_death_rates_fogel_20.png\" width=\"400\"></center>"
   ]
  },
  {
   "attachments": {},
   "cell_type": "markdown",
   "metadata": {
    "editable": true,
    "slideshow": {
     "slide_type": "slide"
    },
    "tags": []
   },
   "source": [
    "### <center>Consumo médio anual per capita de carne de várias populações</center>\n",
    "\n",
    "<center><img src=\"2.6_meat_consumption_fogel_21.png\" width=\"500\"></center>"
   ]
  },
  {
   "attachments": {},
   "cell_type": "markdown",
   "metadata": {
    "editable": true,
    "jp-MarkdownHeadingCollapsed": true,
    "slideshow": {
     "slide_type": "slide"
    },
    "tags": []
   },
   "source": [
    "### <center>Duas estimativas de consumo de escravizados no Sul dos Estados Unidos em 1860</center>\n",
    "\n",
    "<center><img src=\"2.6_meat_consumption_sample_fogel_22.png\" width=\"600\"></center>"
   ]
  },
  {
   "attachments": {},
   "cell_type": "markdown",
   "metadata": {
    "editable": true,
    "slideshow": {
     "slide_type": "slide"
    },
    "tags": []
   },
   "source": [
    "### <center>Índice de difusão de consumo de escravizados no Sul dos Estados Unidos (entrevistas nos anos 1920-30) </center>\n",
    "\n",
    "<center><img src=\"2.6_cons_variey_fogel_23.png\" width=\"500\"></center>"
   ]
  },
  {
   "attachments": {},
   "cell_type": "markdown",
   "metadata": {
    "editable": true,
    "slideshow": {
     "slide_type": "slide"
    },
    "tags": []
   },
   "source": [
    "### <center>Altura média de escravizados e livres por idade e regiões</center>\n",
    "\n",
    "<center><img src=\"2.6_height_slav_free_fogel_24.png\" width=\"350\"></center>"
   ]
  },
  {
   "attachments": {},
   "cell_type": "markdown",
   "metadata": {
    "editable": true,
    "slideshow": {
     "slide_type": "slide"
    },
    "tags": []
   },
   "source": [
    "### <center>Desvio da altura média de escravizados na infância, adolescência e início da idade adulta relativamente a populações atuais</center>\n",
    "\n",
    "<center><img src=\"2.6_distance_mean_heights_fogel_25.png\" width=\"600\"></center>"
   ]
  },
  {
   "cell_type": "markdown",
   "metadata": {
    "editable": true,
    "slideshow": {
     "slide_type": "slide"
    },
    "tags": []
   },
   "source": [
    "## Dados básicos\n",
    "\n",
    "A seguir, dados selecionados de Fogel (1989), cap. 5."
   ]
  },
  {
   "cell_type": "markdown",
   "metadata": {
    "editable": true,
    "slideshow": {
     "slide_type": "slide"
    },
    "tags": []
   },
   "source": [
    "## Taxas de mortalidade comparadas\n",
    "\n",
    "No Caribe britânico: alta mortalidade combinada com baixa natalidade resultaram em decréscimo natural da população.\n",
    "\n",
    "Por exemplo, Jamaica com taxas de decréscimo natural de 4,7% ao ano em 1700 (subestimadas em 31%, devido a não registro de crianças que nasciam e morriam entre censos trienais).\n",
    "\n",
    "Em plantations de açúcar, mortalidade 50% maior que nas plantations de café."
   ]
  },
  {
   "cell_type": "markdown",
   "metadata": {
    "editable": true,
    "slideshow": {
     "slide_type": "subslide"
    },
    "tags": []
   },
   "source": [
    "No Sul dos Estados Unidos, escravizados apresentaram aumento natural positivo desde c. 1710, superando mesmo as taxas de crescimento europeias.\n",
    "\n",
    "Entre 1725 e 1840, taxa de crescimento natural de escravizados ultrapassou a dos brancos.\n",
    "\n",
    "A diferença é explicada sobretudo pela alta natalidade entre escravizados nos Estados Unidos, 80% mais alta que na Jamaica - não por menor mortalidade, que foi de aproximadamente 3,6% a.a. em ambas regiões."
   ]
  },
  {
   "cell_type": "markdown",
   "metadata": {
    "editable": true,
    "slideshow": {
     "slide_type": "slide"
    },
    "tags": []
   },
   "source": [
    "## Mortalidade e culturas agrícolas \n",
    "\n",
    "Trinidad (1813): taxa de natalidade pouco acima da Jamaica, mas mortalidade 50% superior nas plantations de açúcar em relação às de café.\n",
    "\n",
    "Mortes relacionadas a doenças como disenteria e tétano, p.ex.\n",
    "\n",
    "No Sul dos Estados Unidos, propriedades com cultivo de arroz com taxa de mortalidade superior às plantations de algodão e comparável às registradas nas plantations de açúcar.\n",
    "\n",
    "Principal diferença entre essas regiões foi a taxa de natalidade muito maior no Sul dos Estados Unidos."
   ]
  },
  {
   "cell_type": "markdown",
   "metadata": {
    "editable": true,
    "jp-MarkdownHeadingCollapsed": true,
    "slideshow": {
     "slide_type": "subslide"
    },
    "tags": []
   },
   "source": [
    "Fatores ambientais parecem ter influenciado diretamente as taxas de mortalidade.\n",
    "\n",
    "Clima tropical e regiões alagadiças típicas do cultivo de açúcar e arroz levaram a maior mortalidade.\n",
    "\n",
    "Já em regiões de clima temperado com cultivos de algodão e café tiveram mortalidade mais baixa."
   ]
  },
  {
   "cell_type": "markdown",
   "metadata": {
    "editable": true,
    "slideshow": {
     "slide_type": "slide"
    },
    "tags": []
   },
   "source": [
    "## Mortalidade no tráfico atlântico\n",
    "\n",
    "Travessia atlântica (séculos XVII–XVIII) com mortalidade média de 1/7 a 1/8 dos africanos embarcados (13-14%).\n",
    "\n",
    "Tripulação britânica nesses navios apresentava mortalidade até 30% maior que a dos africanos transportados.\n",
    "\n",
    "Migrantes europeus com mortalidade média de 10% durante a travessia para o norte das Américas; mais 15% morriam no primeiro ano - “seasoning”."
   ]
  },
  {
   "cell_type": "markdown",
   "metadata": {
    "editable": true,
    "slideshow": {
     "slide_type": "subslide"
    },
    "tags": []
   },
   "source": [
    "## Mortalidade da Travessia no século XIX\n",
    "\n",
    "Nos anos 1840-1850, a travessia Europa-América reduziu para 1-2% de mortalidade.\n",
    "\n",
    "Irlandeses imigrantes (1847) com alta mortalidade, de 17% no total (6% no navio, 4% em quarentena, 7% após a chegada).\n",
    "\n",
    "Apesar do declínio ao longo do tempo, o tráfico de africanos sofreu elevação nas taxas de mortalidade após 1810 (lembrar Miller na parte I do curso)."
   ]
  },
  {
   "cell_type": "markdown",
   "metadata": {
    "editable": true,
    "slideshow": {
     "slide_type": "slide"
    },
    "tags": []
   },
   "source": [
    "## Dieta e nutrição\n",
    "\n",
    "No Caribe, consumo energético médio de 2.500–3.000 calorias/dia, considerado insuficiente dada a intensidade de trabalho.\n",
    "\n",
    "Além disso, dieta deficiente em proteínas e nutrientes, pior antes de 1815.\n",
    "\n",
    "No Sul dos Estados Unidos, estimativas nas plantations em 1860 variam de 4.185–4.206 calorias/dia."
   ]
  },
  {
   "cell_type": "markdown",
   "metadata": {
    "editable": true,
    "slideshow": {
     "slide_type": "subslide"
    },
    "tags": []
   },
   "source": [
    "## Diversificação da dieta\n",
    "\n",
    "Elevado consumo de milho, batata-doce, carne de porco por parte dos escravizados do Sul dos Estados Unidos, mas com riscos de deficiências em vitamina A, niacina, tiamina.\n",
    "\n",
    "Porém, entrevistas de ex-escravizados nos anos 1920 e 1930 indicam dieta mais variada que os registros sugerem, com peixes, vegetais, aves, caça.\n",
    "\n",
    "Não obstante, era comum o relato de doenças ligadas à má nutrição, incluindo beribéri, pelagra e raquitismo."
   ]
  },
  {
   "cell_type": "markdown",
   "metadata": {
    "editable": true,
    "slideshow": {
     "slide_type": "slide"
    },
    "tags": []
   },
   "source": [
    "## Antropometria - população adulta\n",
    "\n",
    "Dados de registros de navegação de cabotagem (1811–1862) e alistamentos militares nos Estados Unidos servem de base para análise antropométrica (altura, peso e outras medidas físicas).\n",
    "\n",
    "Escravizados nascidos no Sul dos Estados Unidos tinham em média 66,4 polegadas (1,69 m) aos 20 anos.\n",
    "\n",
    "Brancos nascidos no Norte dos Estados Unidos com 67,5 (20 anos) e 68,2 polegadas aos 25-45 anos (1,72 m e 1,73 m).\n",
    "\n",
    "No caso de europeus, exemplos: franceses analfabetos, 64,7 pol. (1,64 m) aos 20 anos; ingleses artesãos, 66,5 pol. (1,69 m) aos 25-45 anos; Italianos do Sul, 63 pol. (1,60 m)."
   ]
  },
  {
   "cell_type": "markdown",
   "metadata": {
    "editable": true,
    "slideshow": {
     "slide_type": "slide"
    },
    "tags": []
   },
   "source": [
    "## Antropometria - infância e adolescência\n",
    "\n",
    "As crianças escravizadas atingiram no Sul dos Estados Unidos altura média muito abaixo dos padrões modernos durante a infância e adolescência.\n",
    "\n",
    "O atraso no crescimento indica diversas deficiências, de desnutrição intrauterina a grave desnutrição infantil (deficiência de proteína, kwashiorkor).\n",
    "\n",
    "Durante a adolescência havia recuperação parcial com crescimento mais acelerado.\n",
    "\n",
    "Uma das principais e prováveis causas: sobrecarga de trabalho de mulheres gestantes na lavoura (p.ex. colheita de algodão)."
   ]
  },
  {
   "cell_type": "markdown",
   "metadata": {
    "editable": true,
    "slideshow": {
     "slide_type": "slide"
    },
    "tags": []
   },
   "source": [
    "## Questões\n",
    "\n",
    "O que explica a diferença no crescimento natural dos escravizados entre o Sul dos Estados Unidos e Caribe, a maior fecundidade ou menor mortalidade? Dê exemplos.\n",
    "\n",
    "Compare as alturas médias das diferentes regiões escravistas do Sul dos Estados Unidos e Caribe com as observadas nas sociedades europeias. Quais as principais tendências e o que se pode concluir delas?\n",
    "\n",
    "Explique de que forma os tipos de cultura agrícola e do ambiente físico se relacionaram com as taxas de mortalidade nas plantations do Sul dos Estados Unidos e Caribe."
   ]
  },
  {
   "cell_type": "markdown",
   "metadata": {
    "editable": true,
    "slideshow": {
     "slide_type": "subslide"
    },
    "tags": []
   },
   "source": [
    "Mostre dados de dieta e antropometria e descreva como elas indicam a presença de desnutrição infantil grave entre as crianças escravizadas no Sul dos Estados Unidos. Qual é o desempenho estimado durante a adolescência e, depois, no início da vida adulta no trabalho do sistema de turmas?"
   ]
  }
 ],
 "metadata": {
  "celltoolbar": "Slideshow",
  "kernelspec": {
   "display_name": "Python 3 (ipykernel)",
   "language": "python",
   "name": "python3"
  },
  "language_info": {
   "codemirror_mode": {
    "name": "ipython",
    "version": 3
   },
   "file_extension": ".py",
   "mimetype": "text/x-python",
   "name": "python",
   "nbconvert_exporter": "python",
   "pygments_lexer": "ipython3",
   "version": "3.13.7"
  },
  "toc": {
   "base_numbering": 1,
   "nav_menu": {},
   "number_sections": false,
   "sideBar": true,
   "skip_h1_title": true,
   "title_cell": "Table of Contents",
   "title_sidebar": "Contents",
   "toc_cell": false,
   "toc_position": {},
   "toc_section_display": true,
   "toc_window_display": false
  }
 },
 "nbformat": 4,
 "nbformat_minor": 4
}
