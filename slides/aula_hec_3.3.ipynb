{
 "cells": [
  {
   "cell_type": "markdown",
   "metadata": {
    "editable": true,
    "jp-MarkdownHeadingCollapsed": true,
    "slideshow": {
     "slide_type": "slide"
    },
    "tags": []
   },
   "source": [
    "## <center>História Econômica da Escravidão - FEA-USP</center>\n",
    "\n",
    "### <center>Aula 3.3 Trabalho e produção rural</center>\n",
    "\n",
    "#### <center>Figuras e dados de apoio</center>\n",
    "\n",
    "#### <center>Renato Perim Colistete</center>\n",
    "\n",
    "\n",
    "#### <center>2025</center>"
   ]
  },
  {
   "cell_type": "markdown",
   "metadata": {
    "editable": true,
    "slideshow": {
     "slide_type": "slide"
    },
    "tags": []
   },
   "source": [
    "## Figuras e dados\n",
    "\n",
    "A seguir, as figuras e dados de apoio para esta aula. Veja também as perguntas adicionadas ao final."
   ]
  },
  {
   "cell_type": "markdown",
   "metadata": {
    "editable": true,
    "slideshow": {
     "slide_type": "fragment"
    },
    "tags": []
   },
   "source": [
    "A consulta aos mapas durante a leitura é altamente recomendada para identificar visualmente características geográficas, localidades e rotas citadas nos textos. "
   ]
  },
  {
   "attachments": {},
   "cell_type": "markdown",
   "metadata": {
    "editable": true,
    "jp-MarkdownHeadingCollapsed": true,
    "slideshow": {
     "slide_type": "slide"
    },
    "tags": []
   },
   "source": [
    "### <center>Mapa do Caribe Britânico, 1900</center>\n",
    "\n",
    "<center><img src=\"3.2_map_british_caribbean_1900.jpg\" width=\"700\"></center>"
   ]
  },
  {
   "attachments": {},
   "cell_type": "markdown",
   "metadata": {
    "editable": true,
    "slideshow": {
     "slide_type": "slide"
    },
    "tags": []
   },
   "source": [
    "### <center>Ocupações dos escravizados nas Colônias I</center>\n",
    "\n",
    "<center><img src=\"3.3_occupations_higman_6.1.png\" width=\"600\"></center>"
   ]
  },
  {
   "attachments": {},
   "cell_type": "markdown",
   "metadata": {
    "editable": true,
    "slideshow": {
     "slide_type": "slide"
    },
    "tags": []
   },
   "source": [
    "### <center>Ocupações dos escravizados nas Colônias II</center>\n",
    "\n",
    "<center><img src=\"3.3_occupations_higman_6.2.png\" width=\"600\"></center>"
   ]
  },
  {
   "cell_type": "markdown",
   "metadata": {
    "editable": true,
    "slideshow": {
     "slide_type": "slide"
    },
    "tags": []
   },
   "source": [
    "## Dados básicos\n",
    "\n",
    "A seguir, dados selecionados de Higman (1984), cap. 6."
   ]
  },
  {
   "cell_type": "markdown",
   "metadata": {
    "editable": true,
    "slideshow": {
     "slide_type": "slide"
    },
    "tags": []
   },
   "source": [
    "## Glossário\n",
    "\n",
    "1 acre = 0,405 hectare (1 hectare = 10.000 metros quadrados)\n",
    "\n",
    "Cane holding - trabalho de escavar para plantio de cana\n",
    "\n",
    "Manuring - adubação\n",
    "\n",
    "Sugar boiler - caldeireiros\n",
    "\n",
    "Head boiler - mestre de açúcar "
   ]
  },
  {
   "cell_type": "markdown",
   "metadata": {
    "editable": true,
    "slideshow": {
     "slide_type": "slide"
    },
    "tags": []
   },
   "source": [
    "## Glossário\n",
    "\n",
    "Cutlass - facão\n",
    "\n",
    "Driver - capataz, feitor\n",
    "\n",
    "Rod - vara\n",
    "\n",
    "Whipping, flogging - açoitar, flagelar\n",
    "\n",
    "Cotton gin - máquina de descaroçar algodão; ginning - descaroçamento"
   ]
  },
  {
   "cell_type": "markdown",
   "metadata": {
    "editable": true,
    "jp-MarkdownHeadingCollapsed": true,
    "slideshow": {
     "slide_type": "slide"
    },
    "tags": []
   },
   "source": [
    "## Distribuição ocupacional\n",
    "\n",
    "Variações da estrutura ocupacional dos escravizados nas colônias.\n",
    "\n",
    "No trabalho do eito, variações não tão grandes: em média, 40-57% dos escravizados; p.ex. Trinidad (1813): 47,5%; Santa Lúcia (1815): 44,0%; Berbice (1819): 49,2%.\n",
    "\n",
    "Diferenças bem maiores no trabalho doméstico: 8-39% e entre trabalhadores especializados: 2,5-8,8%\n",
    "\n",
    "Entre feitores (drivers): 0,4-1,4%; trabalho na pecuária: 1,5-2,3%."
   ]
  },
  {
   "cell_type": "markdown",
   "metadata": {
    "editable": true,
    "jp-MarkdownHeadingCollapsed": true,
    "slideshow": {
     "slide_type": "slide"
    },
    "tags": []
   },
   "source": [
    "## Distribuição ocupacional\n",
    "\n",
    "Diferenças muito maiores de acordo com a especialização produtiva.\n",
    "\n",
    "Nas plantations de açúcar em particular, havia por volta de 3 vezes mais trabalhadores qualificados (skilled) do que em outras culturas agrícolas.\n",
    "\n",
    "O mesmo com relação ao trabalho doméstico, tendo as plantations de café e cacau cerca de 20% dos escravizados nessa atividade enquanto as de açúcar 10% do total."
   ]
  },
  {
   "cell_type": "markdown",
   "metadata": {
    "editable": true,
    "slideshow": {
     "slide_type": "subslide"
    },
    "tags": []
   },
   "source": [
    "## Hierarquia e sistema de turmas\n",
    "\n",
    "Nas maiores plantations de açúcar, parte expressiva do trabalho na lavoura era baseado no sistema de turmas (gang system). Divisão em 3 tipos, segundo força física e idade.\n",
    "\n",
    "1a turma, 15 a 50 anos em geral - trabalho de escavação para plantio de cana (cane holding), com 60–120 buracos/dia, mais plantio e corte de cana, além de trabalho no engenho.\n",
    "\n",
    "2a turma, adolescentes e cativos mais velhos - capina, limpeza, plantio. \n",
    "\n",
    "3a turma, crianças de 5 a 12 anos em geral - capina, transporte de folhas e combustível, cuidado de animais. "
   ]
  },
  {
   "cell_type": "markdown",
   "metadata": {
    "editable": true,
    "slideshow": {
     "slide_type": "slide"
    },
    "tags": []
   },
   "source": [
    "## Exigências físicas e ocupações\n",
    "\n",
    "Trabalho mais pesado e perigoso na cana do que no café, cacau e mantimentos, devido às características da lavoura, p.ex. com períodos longos de replantio dessas últimas.\n",
    "\n",
    "Feitores (drivers) - 2–3% dos homens, responsáveis pela imposição do ritmo do trabalho, disciplina e castigos.\n",
    "\n",
    "Trabalhadores qualificados (skilled) - Carpinteiros (a maior categoria do grupo, 27–58%), tanoeiros (coopers), pedreiros (masons), caldeireiros (sugar boilers), destiladores (rum distillers); maior proporção de qualificados nos engenhos de açúcar.\n",
    "\n",
    "Escravizados domésticos: 10% nas plantations de açúcar e 20% em outros cultivos, com predomínio de mulheres. Dentro do grupo, cozinheiras e lavadeiras formavam o maior contingente (50–70%)."
   ]
  },
  {
   "cell_type": "markdown",
   "metadata": {
    "editable": true,
    "slideshow": {
     "slide_type": "subslide"
    },
    "tags": []
   },
   "source": [
    "Trabalhadores da pecuária (stockkeepers) - cuidavam de gado vacum, mulas, suínos, com 1–5% do total da força de trabalho.\n",
    "\n",
    "Trabalhadores no transporte: cocheiros, barqueiros, muleiros, em torno de 1% do total.\n",
    "\n",
    "Pescadores - 0,3–1% entre as colônias.\n",
    "\n",
    "Cuidadoras (nurses) - cuidavam de crianças e enfermos, proporção e especialização crescia com o tamanho da plantation."
   ]
  },
  {
   "cell_type": "markdown",
   "metadata": {
    "editable": true,
    "slideshow": {
     "slide_type": "slide"
    },
    "tags": []
   },
   "source": [
    "## Incentivos e coerção\n",
    "\n",
    "Sistema disciplinar baseado na coerção e violência, mas mediante combinação de punições (incentivos negativos) e recompensas (positivos).\n",
    "\n",
    "Chicote e castigo físico eram centrais, direta ou indiretamente (“fear of the lash”).\n",
    "\n",
    "Tipos de recompensas variaram de pagamentos em dinheiro (raros na área rural), maior tempo livre a lotes para cultivo."
   ]
  },
  {
   "cell_type": "markdown",
   "metadata": {
    "editable": true,
    "slideshow": {
     "slide_type": ""
    },
    "tags": []
   },
   "source": [
    "Apesar da resistência dos proprietários, recompensas passaram a ser cada vez mais parte dos costumes nas plantations, sobretudo a partir de 1807."
   ]
  },
  {
   "cell_type": "markdown",
   "metadata": {
    "editable": true,
    "slideshow": {
     "slide_type": "slide"
    },
    "tags": []
   },
   "source": [
    "## Leis do castigo\n",
    "\n",
    "Colônias sob domínio britânico elevaram a previsão legal de açoites, de 25 (Espanha) para 39 - em Trinidad, p.ex. máximo de 39 açoites por dia.\n",
    "\n",
    "Em 1815, o número de açoites diários foi reduzido para 25 e em 1823–31 proibiu-se o açoite como símbolo de autoridade e para mulheres, com limite de 15 açoites.\n",
    "\n",
    "As restrições legais continuaram sendo consideradas pelos proprietários como “violação de direitos de propriedade”."
   ]
  },
  {
   "cell_type": "markdown",
   "metadata": {
    "editable": true,
    "slideshow": {
     "slide_type": "slide"
    },
    "tags": []
   },
   "source": [
    "## Questões\n",
    "\n",
    "Descreva a distribuição ocupacional entre os escravizados nas colônias britânicas e discuta: o que essa distribuição revela sobre a especialização produtiva entre elas?\n",
    "\n",
    "Por que o trabalho das 1as turmas (cane holing) nas plantations de açúcar é caracterizado como a tarefa mais pesada e perigosa na lavoura? Mostre evidências quantitativas que possam fundamentar essa conclusão.\n",
    "\n",
    "Analise a lógica do sistema disciplinar do trabalho baseado em coerção e recompensa. Dê exemplos de cada aspecto e avalie as motivações para sua adoção e os conflitos resultantes."
   ]
  }
 ],
 "metadata": {
  "celltoolbar": "Slideshow",
  "kernelspec": {
   "display_name": "Python 3 (ipykernel)",
   "language": "python",
   "name": "python3"
  },
  "language_info": {
   "codemirror_mode": {
    "name": "ipython",
    "version": 3
   },
   "file_extension": ".py",
   "mimetype": "text/x-python",
   "name": "python",
   "nbconvert_exporter": "python",
   "pygments_lexer": "ipython3",
   "version": "3.13.7"
  },
  "toc": {
   "base_numbering": 1,
   "nav_menu": {},
   "number_sections": false,
   "sideBar": true,
   "skip_h1_title": true,
   "title_cell": "Table of Contents",
   "title_sidebar": "Contents",
   "toc_cell": false,
   "toc_position": {},
   "toc_section_display": true,
   "toc_window_display": false
  }
 },
 "nbformat": 4,
 "nbformat_minor": 4
}
