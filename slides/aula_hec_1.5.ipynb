{
 "cells": [
  {
   "cell_type": "markdown",
   "metadata": {
    "editable": true,
    "jp-MarkdownHeadingCollapsed": true,
    "slideshow": {
     "slide_type": "slide"
    },
    "tags": []
   },
   "source": [
    "## <center>História Econômica da Escravidão - FEA-USP</center>\n",
    "\n",
    "### <center>Aula 1.5 - Viagem, doença e morte</center>\n",
    "\n",
    "#### <center>Mapas e dados de apoio</center>\n",
    "\n",
    "#### <center>Renato Perim Colistete</center>\n",
    "\n",
    "\n",
    "#### <center>2025</center>"
   ]
  },
  {
   "cell_type": "markdown",
   "metadata": {
    "editable": true,
    "slideshow": {
     "slide_type": "slide"
    },
    "tags": []
   },
   "source": [
    "## Mapas\n",
    "\n",
    "A seguir, os mapas e dados de apoio para aula do tópico. Veja também as perguntas adicionadas ao final."
   ]
  },
  {
   "cell_type": "markdown",
   "metadata": {
    "slideshow": {
     "slide_type": "fragment"
    }
   },
   "source": [
    "A consulta aos mapas durante a leitura é altamente recomendada para identificar visualmente características geográficas, localidades e rotas citadas nos textos. "
   ]
  },
  {
   "cell_type": "markdown",
   "metadata": {
    "editable": true,
    "jp-MarkdownHeadingCollapsed": true,
    "slideshow": {
     "slide_type": "slide"
    },
    "tags": []
   },
   "source": [
    "### <center>Taxa de mortalidade no circuito do tráfico de africanos para o Brasil</center>\n",
    "\n",
    "<center><img src=\"1.5_mortality_rates_miller_11.1.png\" width=\"700\"></center>"
   ]
  },
  {
   "cell_type": "markdown",
   "metadata": {
    "editable": true,
    "slideshow": {
     "slide_type": "slide"
    },
    "tags": []
   },
   "source": [
    "### <center>África Central Ocidental</center>\n",
    "\n",
    "<center><img src=\"1.1_western_central_afica_miller_1.1.png\" width=\"400\"></center>"
   ]
  },
  {
   "cell_type": "markdown",
   "metadata": {
    "editable": true,
    "slideshow": {
     "slide_type": "slide"
    },
    "tags": []
   },
   "source": [
    "## Dados básicos\n",
    "\n",
    "A seguir, dados selecionados de Miller (1989), cap. 11."
   ]
  },
  {
   "cell_type": "markdown",
   "metadata": {
    "editable": true,
    "slideshow": {
     "slide_type": "slide"
    },
    "tags": []
   },
   "source": [
    "### Vocabulário I\n",
    "\n",
    "Sorghum ou massambala (Angola) = sorgo, cereal originário e amplamente cultivado na Áfica.\n",
    "\n",
    "Milliet = milheto, idem.\n",
    "\n",
    "Scurvy = escorbuto, \"mal de Luanda\", deficiência de vitamina C, causando infecções, dores nos braços e pernas, tontura, prostração.\n",
    "\n",
    "Carneiradas = febres diversas, como febre tifóide (febre, acessos, dores abdominais, fadiga, prostração) e varíola (smallpox)."
   ]
  },
  {
   "cell_type": "markdown",
   "metadata": {
    "editable": true,
    "slideshow": {
     "slide_type": "slide"
    },
    "tags": []
   },
   "source": [
    "### Vocabulário II\n",
    "\n",
    "Smallpox = variola, contágio por partículas respiratórias e contato direto, com erupções cutâneas, febre alta, dores abdominais, acessos, fadiga.\n",
    "\n",
    "Maroon colonies = quilombos; marooners = quilombolas.\n",
    "\n",
    "Coffle = comboio de escravizados (20 a 100 em geral) capturados e transportados do interior para os portos."
   ]
  },
  {
   "cell_type": "markdown",
   "metadata": {
    "editable": true,
    "slideshow": {
     "slide_type": "slide"
    },
    "tags": []
   },
   "source": [
    "### Definição de quintal\n",
    "\n",
    "Quintal = instalação cercada utilizada por comerciantes para confinamento de escravizados chegados em Luanda e Benguela, antes do embarque para o Brasil.\n",
    "\n",
    "Capacidade dos quintais: cercados com muros elevados, com 100 a 400 escravizados (+ animais). Exemplo em Benguela: 17 metros de lado (17m × 17m = 289 m²), 150 a 200 escravizados; ≈ 2 m² por pessoa (150).\n",
    "\n",
    "150 pessoas: 289 ÷ 150 ≈ 1,93 m²/pessoa; 200 pessoas: 289 ÷ 200 ≈ 1,45 m²/pessoa. "
   ]
  },
  {
   "cell_type": "markdown",
   "metadata": {
    "editable": true,
    "slideshow": {
     "slide_type": "slide"
    },
    "tags": []
   },
   "source": [
    "### Taxas diárias para supervisão e provisões\n",
    "\n",
    "Sustentos = taxas (fees) diárias estipuladas oficialmente e pagas pelos proprietários de escravizados em Luanda a comerciantes luso-africanos para supervisão e manutenção dos escravizados.\n",
    "\n",
    "No século XVIII, taxas de 60 réis por escravizado. No início do século XIX, subiu para 100 réis.\n",
    "\n",
    "Alimentos: principalmente massambala (sorgo), milheto, farinha de mandioca, feijão (misturado com farinha, mush = massa), peixe seco (eventualmente gerebita, arroz). Outros eventuais produtos na travessia."
   ]
  },
  {
   "cell_type": "markdown",
   "metadata": {
    "editable": true,
    "slideshow": {
     "slide_type": "slide"
    },
    "tags": []
   },
   "source": [
    "### Mortalidade da África à chegada ao Brasil\n",
    "\n",
    "Mortalidade em sociedades africanas estáveis: 15–30 por 1.000 pessoas por ano (1,5 a 3,0% ao ano).\n",
    "\n",
    "Captura: até 10% dos cativos (100 por 1.000).\n",
    "\n",
    "Caminhada do interior ao litoral: 25% de fatalidades dos sobreviventes após a captura (≈ 500/1.000 ao ano anualizado).\n",
    "\n",
    "Quintais: mortalidade de 10–15%.\n",
    "\n",
    "Travessia do Atlântico (Middle Passage): em torno de 10% (final do séc. XVIII, mais alto em períodos de epidemia/fome; declinando no século XIX para 3 a 5%).\n",
    "\n",
    "Chegada ao Brasil (antes da venda): mais 4–10% de mortalidade.\n",
    "\n",
    "Deslocamento para interior do Brasil (quando ocorria): 10 a 15% de mortalidade."
   ]
  },
  {
   "cell_type": "markdown",
   "metadata": {
    "editable": true,
    "slideshow": {
     "slide_type": "slide"
    },
    "tags": []
   },
   "source": [
    "### Mortalidade de escravizados na adaptação no Brasil (“seasoning”)\n",
    "\n",
    "1º ano: ≈ 200 por 1.000 (20%).\n",
    "\n",
    "2º ano: ≈ 125 por 1.000 (12,5%).\n",
    "\n",
    "3º ano: <100 por 1.000 (≈10%).\n",
    "\n",
    "5º ano em diante: estabilização em 30 por 1.000 (≈3% ao ano).\n",
    "\n",
    "Vida média após adaptação: 10–15 anos."
   ]
  },
  {
   "cell_type": "markdown",
   "metadata": {
    "editable": true,
    "slideshow": {
     "slide_type": "slide"
    },
    "tags": []
   },
   "source": [
    "### Por outro ângulo, de 100 escravizados capturados no interior da África:\n",
    "\n",
    "Aproximadamente, 75 capturados chegavam aos mercados do interior da África.\n",
    "\n",
    "64 escravizados alcançavam a costa e os portos de embarque de Angola.\n",
    "\n",
    "57 embarcavam nos navios para a Passagem do Meio.\n",
    "\n",
    "51 desembarcavam na costa brasileira.\n",
    "\n",
    "48–49 sobreviviam até a venda inicial.\n",
    "\n",
    "28–30 escravizados sobreviviam aos 3–4 anos de adaptação, isto é, mortalidade de mais de 2/3 dos africanos em todo o ciclo até os primeiros anos de trabalho nas minas, fazendas e cidades no Brasil."
   ]
  },
  {
   "cell_type": "markdown",
   "metadata": {
    "editable": true,
    "slideshow": {
     "slide_type": "slide"
    },
    "tags": []
   },
   "source": [
    "### Distribuição dos custos por agentes\n",
    "\n",
    "Africanos locais, interior e zonas distantes: menos afetados, < 10% de perdas.\n",
    "\n",
    "Reinos africanos guerreiros e comerciantes: perdas maiores no sul (Ovimbundu), Angola e menores no norte do rio Congo (Vili).\n",
    "\n",
    "Comerciantes luso-africanos: maiores perdas, 25% no caminho -> 10–15% em portos -> 10% na travessia -> 4–5% na chegada.\n",
    "\n",
    "Negociantes portugueses de Lisboa: 20% de perdas; inicialmente evitavam assumir propriedade (século XVIII alto risco); depois, com quedas na mortalidade, passaram a envolver-se diretamente no séc. XIX.\n",
    "\n",
    "Traficantes brasileiros: absorviam 20% de perdas na fase final de compra a revenda em mercados internos.\n",
    "\n",
    "Proprietários de escravizados no Brasil: taxa de mortalidade média de aproximadamente 7% ao ano, compensada pela exploração do trabalho."
   ]
  },
  {
   "cell_type": "markdown",
   "metadata": {
    "editable": true,
    "slideshow": {
     "slide_type": "slide"
    },
    "tags": []
   },
   "source": [
    "## Questões\n",
    "\n",
    "Como a diferença entre métodos violentos (guerras, incursões) e métodos comerciais (dívidas, condenações) afetava as taxas de mortalidade no início do processo de escravização?\n",
    "\n",
    "Quais foram os principais fatores (nutrição, água, doenças) que elevaram a mortalidade dos cativos no deslocamento até Luanda e Benguela, chegando a taxas anuais estimadas de 400–600 por mil?\n",
    "\n",
    "Quais condições de confinamento nos quintais de Luanda e Benguela contribuíam para a propagação de doenças e para a elevada mortalidade dos escravizados ainda na África?"
   ]
  },
  {
   "cell_type": "markdown",
   "metadata": {
    "editable": true,
    "slideshow": {
     "slide_type": "subslide"
    },
    "tags": []
   },
   "source": [
    "Como as condições climáticas africanas (secas, epidemias) e a demanda brasileira por mão de obra influenciavam as taxas de mortalidade dos escravizados africanos? \n",
    "\n",
    "Analise como os custos da mortalidade se distribuíam entre os diferentes agentes do tráfico (produtores africanos, comerciantes luso-africanos, negociantes portugueses, compradores brasileiros). Quem assumia os maiores riscos e por quê?"
   ]
  }
 ],
 "metadata": {
  "celltoolbar": "Slideshow",
  "kernelspec": {
   "display_name": "Python 3 (ipykernel)",
   "language": "python",
   "name": "python3"
  },
  "language_info": {
   "codemirror_mode": {
    "name": "ipython",
    "version": 3
   },
   "file_extension": ".py",
   "mimetype": "text/x-python",
   "name": "python",
   "nbconvert_exporter": "python",
   "pygments_lexer": "ipython3",
   "version": "3.9.23"
  },
  "toc": {
   "base_numbering": 1,
   "nav_menu": {},
   "number_sections": false,
   "sideBar": true,
   "skip_h1_title": true,
   "title_cell": "Table of Contents",
   "title_sidebar": "Contents",
   "toc_cell": false,
   "toc_position": {},
   "toc_section_display": true,
   "toc_window_display": false
  }
 },
 "nbformat": 4,
 "nbformat_minor": 4
}
