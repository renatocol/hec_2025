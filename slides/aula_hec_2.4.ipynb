{
 "cells": [
  {
   "cell_type": "markdown",
   "metadata": {
    "editable": true,
    "jp-MarkdownHeadingCollapsed": true,
    "slideshow": {
     "slide_type": "slide"
    },
    "tags": []
   },
   "source": [
    "## <center>História Econômica da Escravidão - FEA-USP</center>\n",
    "\n",
    "### <center>Aula 2.4 A economia do Sul escravista</center>\n",
    "\n",
    "#### <center>Mapas e dados de apoio</center>\n",
    "\n",
    "#### <center>Renato Perim Colistete</center>\n",
    "\n",
    "\n",
    "#### <center>2025</center>"
   ]
  },
  {
   "cell_type": "markdown",
   "metadata": {
    "editable": true,
    "slideshow": {
     "slide_type": "slide"
    },
    "tags": []
   },
   "source": [
    "## Mapas\n",
    "\n",
    "A seguir, os mapas e dados de apoio para aula do tópico. Veja também as perguntas adicionadas ao final."
   ]
  },
  {
   "cell_type": "markdown",
   "metadata": {
    "slideshow": {
     "slide_type": "fragment"
    }
   },
   "source": [
    "A consulta aos mapas durante a leitura é altamente recomendada para identificar visualmente características geográficas, localidades e rotas citadas nos textos. "
   ]
  },
  {
   "attachments": {},
   "cell_type": "markdown",
   "metadata": {
    "editable": true,
    "slideshow": {
     "slide_type": "slide"
    },
    "tags": []
   },
   "source": [
    "### <center>Riqueza média por chefe de domicílio, Estados Unidos, 1860</center>\n",
    "\n",
    "<center><img src=\"2.4_average_wealth_fogel_15.png\" width=\"500\"></center>"
   ]
  },
  {
   "cell_type": "markdown",
   "metadata": {
    "editable": true,
    "slideshow": {
     "slide_type": "slide"
    },
    "tags": []
   },
   "source": [
    "### <center>Renda per capita por região, 1840-1860</center>\n",
    "\n",
    "<center><img src=\"2.4_per_capita_regions_fogel_1.png\" width=\"400\"></center>"
   ]
  },
  {
   "cell_type": "markdown",
   "metadata": {
    "editable": true,
    "slideshow": {
     "slide_type": "slide"
    },
    "tags": []
   },
   "source": [
    "### <center>Crescimento médio da renda real per capita, 1840-1860</center>\n",
    "\n",
    "<center><img src=\"2.4_per_capita_growth_fogel_2.png\" width=\"700\"></center>"
   ]
  },
  {
   "cell_type": "markdown",
   "metadata": {
    "editable": true,
    "slideshow": {
     "slide_type": "slide"
    },
    "tags": []
   },
   "source": [
    "### <center>Crescimento médio da renda real per capita por região, 1860 e 1880</center>\n",
    "\n",
    "<center><img src=\"2.4_income_by_region_fogel_3.png\" width=\"600\"></center>"
   ]
  },
  {
   "cell_type": "markdown",
   "metadata": {
    "editable": true,
    "slideshow": {
     "slide_type": "slide"
    },
    "tags": []
   },
   "source": [
    "### <center>Desvios do preço do algodão em relação à tendência</center>\n",
    "\n",
    "<center><img src=\"2.4_dev_price_cotton_fogel_16.png\" width=\"600\"></center>"
   ]
  },
  {
   "cell_type": "markdown",
   "metadata": {
    "editable": true,
    "slideshow": {
     "slide_type": "slide"
    },
    "tags": []
   },
   "source": [
    "## Dados básicos\n",
    "\n",
    "A seguir, dados selecionados de Fogel (1989), cap. 1."
   ]
  },
  {
   "cell_type": "markdown",
   "metadata": {
    "editable": true,
    "slideshow": {
     "slide_type": "subslide"
    },
    "tags": []
   },
   "source": [
    "### Distribuição de riqueza no Sul em 1860\n",
    "\n",
    "Riqueza média dos fazendeiros da região do algodão = US$ 13,124.\n",
    "\n",
    "Trabalhadores urbanos do Norte: US$ 144.\n",
    "\n",
    "Trabalhadores rurais do Norte: aproximadamente US$ 374.\n",
    "\n",
    "Proprietário típico da região do algodão possuía 8 escravos, que representavam cerca de 50% da riqueza total."
   ]
  },
  {
   "cell_type": "markdown",
   "metadata": {
    "editable": true,
    "slideshow": {
     "slide_type": "subslide"
    },
    "tags": []
   },
   "source": [
    "Proprietários não-escravistas do Sul tinham riqueza média de aproximadamente US$ 1.800, várias vezes maior que a dos trabalhadores do Norte.\n",
    "\n",
    "Plantations com sistema de turmas com riqueza média > US$ 56.000 (15x a dos \"yeomen\" ou agricultores do Norte).\n",
    "\n",
    "Em 1860, quase 2/3 dos homens com fortuna ≥ US$ 100.000 viviam no Sul."
   ]
  },
  {
   "cell_type": "markdown",
   "metadata": {
    "editable": true,
    "slideshow": {
     "slide_type": "slide"
    },
    "tags": []
   },
   "source": [
    "## Taxas de crescimento anual dos Estados Unidos, 1840 a 1860\n",
    "\n",
    "Média nacional: 1,4% \n",
    "\n",
    "Sul: 1,7% \n",
    "\n",
    "Norte: 1,3%\n",
    "\n",
    "Ver sub-regiões."
   ]
  },
  {
   "cell_type": "markdown",
   "metadata": {
    "editable": true,
    "slideshow": {
     "slide_type": "slide"
    },
    "tags": []
   },
   "source": [
    "## Mudanças\n",
    "\n",
    "Mudanças radicais depois da Guerra Civil.\n",
    "\n",
    "Em 1880, a renda per capita do Sul era 50% inferior à média nacional."
   ]
  },
  {
   "cell_type": "markdown",
   "metadata": {
    "editable": true,
    "slideshow": {
     "slide_type": "slide"
    },
    "tags": []
   },
   "source": [
    "## Movimento para o Oeste (no Sul)\n",
    "\n",
    "30% do crescimento do Sul entre 1840-1860 deveu-se à redistribuição populacional.\n",
    "\n",
    "Taxa de migração para estados do Norte Central: 28 por mil ao ano (1850-1860).\n",
    "\n",
    "Taxa de migração para o Novo Sul: apenas 7% de aumento na força de trabalho agrícola.\n",
    "\n",
    "Hiato salarial de 20-40% entre Novo Sul e Velho Sul persistiu durante três décadas."
   ]
  },
  {
   "cell_type": "markdown",
   "metadata": {
    "editable": true,
    "jp-MarkdownHeadingCollapsed": true,
    "slideshow": {
     "slide_type": "slide"
    },
    "tags": []
   },
   "source": [
    "## Boom do algodão nos anos 1850\n",
    "\n",
    "Produção dobrou entre 1850 e 1860.\n",
    "\n",
    "Aumento de 57% entre 1857 e 1860.\n",
    "\n",
    "Demanda mundial cresceu 7% ao ano a partir de 1846.\n",
    "\n",
    "Preços 15% acima da tendência durante os últimos 4 anos da década de 1850."
   ]
  },
  {
   "cell_type": "markdown",
   "metadata": {
    "editable": true,
    "slideshow": {
     "slide_type": "slide"
    },
    "tags": []
   },
   "source": [
    "## Declíno da produtividade\n",
    "\n",
    "Queda de 31-43% na produtividade do trabalho agrícola de 1860 a 1880.\n",
    "\n",
    "2/3 da redução devido à menor eficiência do trabalho.\n",
    "\n",
    "1/3 devido à redução de capital por trabalhador."
   ]
  },
  {
   "cell_type": "markdown",
   "metadata": {
    "editable": true,
    "slideshow": {
     "slide_type": "subslide"
    },
    "tags": []
   },
   "source": [
    "## Causas do declínio da produtividade\n",
    "\n",
    "Fim do sistema de turmas com escravizados nas grandes plantations.\n",
    "\n",
    "Pequenas fazendas de agricultores brancos: 5% menos produtivas em 1880.\n",
    "\n",
    "Novas propriedades de ex-escravizados: 60% menos produtivos que em 1860."
   ]
  },
  {
   "cell_type": "markdown",
   "metadata": {
    "editable": true,
    "slideshow": {
     "slide_type": "subslide"
    },
    "tags": []
   },
   "source": [
    "Diferença racial não explica, pois ex-escravizados e brancos, com mesma dotação de terra e capital, alcançavam produtividade igual.\n",
    "\n",
    "Provavelmente a perda de eficiência adveio da transição para pequenas propriedades familiares (sharecropping, arrendamentos) por parte dos antigos escravizados."
   ]
  },
  {
   "cell_type": "markdown",
   "metadata": {
    "editable": true,
    "slideshow": {
     "slide_type": "slide"
    },
    "tags": []
   },
   "source": [
    "## Setor não agrícola\n",
    "\n",
    "Produtividade nos setores de serviços e manufatura cresceu mais que o dobro da agricultura de 1840 a 1860.\n",
    "\n",
    "Setor não-agrícola: menos de 1/4 da produção sulista em 1840.\n",
    "\n",
    "Fonte de 40% do aumento da renda per capita nas duas últimas décadas antes da Guerra Civil."
   ]
  },
  {
   "cell_type": "markdown",
   "metadata": {
    "editable": true,
    "slideshow": {
     "slide_type": "slide"
    },
    "tags": []
   },
   "source": [
    "### Questões\n",
    "\n",
    "Compare a riqueza média dos fazendeiros de algodão e dos outros grupos de agricultores do Sul com os do Norte. Quais diferenças se destacam mais?\n",
    "\n",
    "Qual foi a profundidade do declínio econômico do Sul entre 1860 e1880, e como isso contrastou com a recuperação econômica do Norte no mesmo período?\n",
    "\n",
    "Descreva o declínio na produtividade do trabalho agrícola do Sul após 1860 e explique como o fim do sistema de turmas (gang system) contribuiu para essa queda."
   ]
  },
  {
   "cell_type": "markdown",
   "metadata": {
    "editable": true,
    "slideshow": {
     "slide_type": "subslide"
    },
    "tags": []
   },
   "source": [
    "Analise os dados de migração para o Oeste do Sul dos Estados Unidos e responda: como a taxa de migração explica o hiato salarial persistente de 20-40% dentro do Sul?"
   ]
  }
 ],
 "metadata": {
  "celltoolbar": "Slideshow",
  "kernelspec": {
   "display_name": "Python 3 (ipykernel)",
   "language": "python",
   "name": "python3"
  },
  "language_info": {
   "codemirror_mode": {
    "name": "ipython",
    "version": 3
   },
   "file_extension": ".py",
   "mimetype": "text/x-python",
   "name": "python",
   "nbconvert_exporter": "python",
   "pygments_lexer": "ipython3",
   "version": "3.11.13"
  },
  "toc": {
   "base_numbering": 1,
   "nav_menu": {},
   "number_sections": false,
   "sideBar": true,
   "skip_h1_title": true,
   "title_cell": "Table of Contents",
   "title_sidebar": "Contents",
   "toc_cell": false,
   "toc_position": {},
   "toc_section_display": true,
   "toc_window_display": false
  }
 },
 "nbformat": 4,
 "nbformat_minor": 4
}
