{
 "cells": [
  {
   "cell_type": "markdown",
   "metadata": {
    "editable": true,
    "jp-MarkdownHeadingCollapsed": true,
    "slideshow": {
     "slide_type": "slide"
    },
    "tags": []
   },
   "source": [
    "## <center>História Econômica da Escravidão - FEA-USP</center>\n",
    "\n",
    "### <center>Aula 2.7 Cultura e Resistência</center>\n",
    "\n",
    "#### <center>Dados de apoio</center>\n",
    "\n",
    "#### <center>Renato Perim Colistete</center>\n",
    "\n",
    "\n",
    "#### <center>2025</center>"
   ]
  },
  {
   "cell_type": "markdown",
   "metadata": {
    "editable": true,
    "slideshow": {
     "slide_type": "slide"
    },
    "tags": []
   },
   "source": [
    "## Dados básicos\n",
    "\n",
    "A seguir, dados selecionados de Fogel (1989), cap. 6."
   ]
  },
  {
   "cell_type": "markdown",
   "metadata": {
    "editable": true,
    "slideshow": {
     "slide_type": "slide"
    },
    "tags": []
   },
   "source": [
    "## Ética do trabalho \n",
    "\n",
    "Interpretações tradicionais estabeleceram o mito da incompetência dos escravizados, caracterizando-os como \"indolentes\", \"intelectualmente limitados\" e capazes apenas de trabalho \"mecânico\".\n",
    "\n",
    "Entre os autores, James Ford Rhodes e U.B. Phillips no início do século XX são representativos dessa visão.\n",
    "\n",
    "As fontes utilizadas induziram os resultados: geralmente consistiam em relatos de viajantes brancos e documentos de proprietários."
   ]
  },
  {
   "cell_type": "markdown",
   "metadata": {
    "editable": true,
    "slideshow": {
     "slide_type": "subslide"
    },
    "tags": []
   },
   "source": [
    "## Revisão da interpretação tradicional\n",
    "\n",
    "As críticas à visão tradicional revelaram outras evidências, por exemplo de alfabetização e habilidades (skills) dos trabalhadores no Sul dos Estados Unidos.\n",
    "\n",
    "Exemplos: 15-20% dos escravizados e negros livres adultos sabiam ler no final do século XVIII no Sul dos Estados Unidos. Negros escravizados e livres representavam 80% dos artesãos no Sul.\n",
    "\n",
    "Tipos variados de fontes, incluindo registros de alfabetização, relatos de rebeliões, autobiografias. Entre os autores importantes, Carter Woodson e W.E.B. DuBois."
   ]
  },
  {
   "cell_type": "markdown",
   "metadata": {
    "editable": true,
    "slideshow": {
     "slide_type": "slide"
    },
    "tags": []
   },
   "source": [
    "## Resistência e modalidades\n",
    "\n",
    "Uma das primeiras formas com que historiadores (e ativistas) resgataram a agência dos escravizados foi pela reconstituição de episódios de conspiração, revolta e insurreição nas fazendas.\n",
    "\n",
    "Um outro tipo de ação foi a “resistência cotidiana”, tanto individual quando coletiva: roubo, sabotagem, ritmo lento, simulação de doenças, apoiando-se em descrições de viajantes e memórias.\n",
    "\n",
    "A reconstituição dessas ações locais evoluiu para uma abordagem da resistência diária como parte de uma ética de trabalho consciente, que acomodava de forma ativa - e dentro do possível - as pressões do regime opressivo escravista."
   ]
  },
  {
   "cell_type": "markdown",
   "metadata": {
    "editable": true,
    "slideshow": {
     "slide_type": "subslide"
    },
    "tags": []
   },
   "source": [
    "Entre os autores, Melville Herskovits, Kenneth Stamp e Eugene Genovese. Fontes variadas: cartas, canções, contos, autobiografias de fugitivos (runaways) e narrativas de ex-escravizados."
   ]
  },
  {
   "cell_type": "markdown",
   "metadata": {
    "editable": true,
    "slideshow": {
     "slide_type": "slide"
    },
    "tags": []
   },
   "source": [
    "## Costumes Sexuais e Normas Familiares\n",
    "\n",
    "Também no início do século XX em diante surgiram novos estudos sobre os costumes (mores) e normas das famílias sob o regime de escravidão.\n",
    "\n",
    "A visão inicial e tradicional descreveu a família escrava como frágil ou inviável, marcada por promiscuidade e pela ausência de laços estáveis.\n",
    "\n",
    "W. E. B. DuBois, p.ex., sustentou que a escravidão minava a autoridade do pai e da mãe e distinguiu a existência de famílias mais estáveis entre criados domésticos."
   ]
  },
  {
   "cell_type": "markdown",
   "metadata": {
    "editable": true,
    "slideshow": {
     "slide_type": "subslide"
    },
    "tags": []
   },
   "source": [
    "E. Franklin Frazier elaborou a tese da estrutura familiar dual – coexistência de famílias nucleares e famílias matrifocais, associando o fenômeno à desorganização herdada da escravidão. "
   ]
  },
  {
   "cell_type": "markdown",
   "metadata": {
    "editable": true,
    "slideshow": {
     "slide_type": "subslide"
    },
    "tags": []
   },
   "source": [
    "## Costumes e normas sob revisão\n",
    "\n",
    "Vários autores, utilizando novas fontes, revelaram a partir dos anos 1960 outras atititudes e normas das famílias escravizadas.\n",
    "\n",
    "P.ex. Herbert Gutman concluiu que a família escrava estabeleceu laços estáveis, com uniões duradouras apesar das rupturas provocadas pelo tráfico interno.\n",
    "\n",
    "Eugene Genovese sustentou ter havido coexistência entre liberdade sexual antes do casamento e valores “vitorianos” (monogamia, estabilidade) após o matrimônio.\n",
    "\n",
    "Novamente, houve utilização de fontes quantitativas e qualitativas diversas, como autobiografias de runaways, registros de nascimento/mortalidade em fazendas, listas de vendas, entrevistas."
   ]
  },
  {
   "cell_type": "markdown",
   "metadata": {
    "editable": true,
    "slideshow": {
     "slide_type": "slide"
    },
    "tags": []
   },
   "source": [
    "## Confronto permanente ou luta por melhorias\n",
    "\n",
    "Como conciliar o sistema altamente intensivo das turmas nas médias e grandes plantations com evidências de estratégias de resistência e acomodação dos escravizados?\n",
    "\n",
    "Lembrar: escravizados nas plantations sob sistema de turmas tinham em média uma produtividade 70% maior do que a de agricultores livres ou dos demais escravizados em pequenas propriedades.\n",
    "\n",
    "Evidências de que escravizados com ocupações artesanais obtinham melhores condições materiais (hortas, criação de animais), maior autonomia, menor risco de venda e maior proteção de suas famílias. "
   ]
  },
  {
   "cell_type": "markdown",
   "metadata": {
    "editable": true,
    "slideshow": {
     "slide_type": "subslide"
    },
    "tags": []
   },
   "source": [
    "Possivelmente, em vez de confronto frontal e permanente, a forma de resistência mais comum foi a de luta para melhorias das condições de trabalho e de vida das famílias por parte dos escravizados."
   ]
  },
  {
   "cell_type": "markdown",
   "metadata": {
    "editable": true,
    "slideshow": {
     "slide_type": "slide"
    },
    "tags": []
   },
   "source": [
    "## Questões\n",
    "\n",
    "Avalie de que forma os diferentes tipos de fontes históricas (p.ex. relatos de proprietários e autobiografias de ex-escravizados; narrativas gerais e documentos de fazendas) afetaram as interpretações sobre a ética do trabalho dos escravizados no Sul dos Estados Unidos.\n",
    "\n",
    "Quais são as principais posições no debate sobre família e sexualidade escrava e que documentação e fontes históricas sustentam cada lado?\n",
    "\n",
    "Como a noção de “resistência cotidiana” dos escravizados explica o seu comportamento no trabalho e como ela se concilia - ou não - com as evidências de alta produtividade nas plantations com sistema de turmas?"
   ]
  }
 ],
 "metadata": {
  "celltoolbar": "Slideshow",
  "kernelspec": {
   "display_name": "Python 3 (ipykernel)",
   "language": "python",
   "name": "python3"
  },
  "language_info": {
   "codemirror_mode": {
    "name": "ipython",
    "version": 3
   },
   "file_extension": ".py",
   "mimetype": "text/x-python",
   "name": "python",
   "nbconvert_exporter": "python",
   "pygments_lexer": "ipython3",
   "version": "3.13.7"
  },
  "toc": {
   "base_numbering": 1,
   "nav_menu": {},
   "number_sections": false,
   "sideBar": true,
   "skip_h1_title": true,
   "title_cell": "Table of Contents",
   "title_sidebar": "Contents",
   "toc_cell": false,
   "toc_position": {},
   "toc_section_display": true,
   "toc_window_display": false
  }
 },
 "nbformat": 4,
 "nbformat_minor": 4
}
