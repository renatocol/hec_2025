{
 "cells": [
  {
   "cell_type": "markdown",
   "metadata": {
    "editable": true,
    "jp-MarkdownHeadingCollapsed": true,
    "slideshow": {
     "slide_type": "slide"
    },
    "tags": []
   },
   "source": [
    "## <center>História Econômica da Escravidão - FEA-USP</center>\n",
    "\n",
    "### <center>Aula 2.5 Escravidão e industrialização</center>\n",
    "\n",
    "#### <center>Mapas e dados de apoio</center>\n",
    "\n",
    "#### <center>Renato Perim Colistete</center>\n",
    "\n",
    "\n",
    "#### <center>2025</center>"
   ]
  },
  {
   "cell_type": "markdown",
   "metadata": {
    "editable": true,
    "slideshow": {
     "slide_type": "slide"
    },
    "tags": []
   },
   "source": [
    "## Mapas\n",
    "\n",
    "A seguir, os mapas e dados de apoio para aula do tópico. Veja também as perguntas adicionadas ao final."
   ]
  },
  {
   "cell_type": "markdown",
   "metadata": {
    "slideshow": {
     "slide_type": "fragment"
    }
   },
   "source": [
    "A consulta aos mapas durante a leitura é altamente recomendada para identificar visualmente características geográficas, localidades e rotas citadas nos textos. "
   ]
  },
  {
   "attachments": {},
   "cell_type": "markdown",
   "metadata": {
    "editable": true,
    "slideshow": {
     "slide_type": "slide"
    },
    "tags": []
   },
   "source": [
    "### <center>Trabalho empregado na indústria manufatureira, Norte e Sul dos Estados Unidos, 1820-1860</center>\n",
    "\n",
    "<center><img src=\"2.5_labor_force_manuf_fogel_18.png\" width=\"600\"></center>"
   ]
  },
  {
   "cell_type": "markdown",
   "metadata": {
    "editable": true,
    "slideshow": {
     "slide_type": "slide"
    },
    "tags": []
   },
   "source": [
    "## Dados básicos\n",
    "\n",
    "A seguir, dados selecionados de Fogel (1989), cap. 4."
   ]
  },
  {
   "cell_type": "markdown",
   "metadata": {
    "editable": true,
    "slideshow": {
     "slide_type": "subslide"
    },
    "tags": []
   },
   "source": [
    "### Comparação do Sul com Europa\n",
    "\n",
    "Taxa de crescimento da renda per capita de 1,7% ao ano, como vimos na aula anterior (média nacional = 1,4% a.a.).\n",
    "\n",
    "Em 1860, a renda per capita do Sul dos Estados Unidos só era inferior à da Inglaterra.\n",
    "\n",
    "Ou seja, sua renda per capita era superior à da França, Alemanha, Dinamarca e outros países europeus."
   ]
  },
  {
   "cell_type": "markdown",
   "metadata": {
    "editable": true,
    "slideshow": {
     "slide_type": "slide"
    },
    "tags": []
   },
   "source": [
    "## Situação no final do século XVIII\n",
    "\n",
    "No final do século XVIII, população urbana com menos de 10% do total tanto no Norte quanto no Sul.\n",
    "\n",
    "Na mesma época, aproximadamente 80% da força de trabalho eram empregados na agricultura.\n",
    "\n",
    "Comparando, a pop urbana da Grã-Bretanha era de 25% em 1750, percentual alcançado pelos Estados Unidos só em 1869.\n",
    "\n",
    "Ou seja, hiato de 119 anos em termos da distribuição espacial da população."
   ]
  },
  {
   "cell_type": "markdown",
   "metadata": {
    "editable": true,
    "slideshow": {
     "slide_type": "slide"
    },
    "tags": []
   },
   "source": [
    "## A primeira metade do século XIX, Norte\n",
    "\n",
    "Nas décadas após 1810, crescimento rápido das fábricas têxteis, com Massachusetts à frente.\n",
    "\n",
    "Em 1850, fábricas com média de 150 operários e as 10% maiores com 500 trabalhadores em média.\n",
    "\n",
    "Em 1860, a população urbana do Nordeste dos Estados Unidors já era de 36% do total."
   ]
  },
  {
   "cell_type": "markdown",
   "metadata": {
    "editable": true,
    "slideshow": {
     "slide_type": "slide"
    },
    "tags": []
   },
   "source": [
    "## A primeira metade do século XIX, Sul\n",
    "\n",
    "No Sul, a força de trabalho na indústria também cresceu (72% entre 1820 e 1860), mas bem menos do que no Norte (383%).\n",
    "\n",
    "Em 1860, o Sul permanecia majoritariamente agrícola.\n",
    "\n",
    "Mas os indicadores de industrialização eram elevados relativamente ao resto do mundo.\n",
    "\n",
    "P.ex., em termos per capita, 2º do mundo em ferrovias, 6º em têxteis de algodão, 8º em ferro-gusa."
   ]
  },
  {
   "cell_type": "markdown",
   "metadata": {
    "editable": true,
    "slideshow": {
     "slide_type": "slide"
    },
    "tags": []
   },
   "source": [
    "## A indústria em meados do séc XIX\n",
    "\n",
    "Diferença dos Estados Ui na têxtil algodoeira - 17 anos atrás do nível da Grã-Bretanha em 1850.\n",
    "\n",
    "Na produção de ferro-gusa - 23 anos atrás da Grã-Bretanha em 1850.\n",
    "\n",
    "Mas os Estados Unidos ultrapassam a GB na produção de ferro-gusa em 1890 e de têxteis em 1910."
   ]
  },
  {
   "cell_type": "markdown",
   "metadata": {
    "editable": true,
    "slideshow": {
     "slide_type": "slide"
    },
    "tags": []
   },
   "source": [
    "## Classificação das indústrias\n",
    "\n",
    "Interessante ver como a classificação das atividades da indústria de transformação afeta a avaliação.\n",
    "\n",
    "Nos censos, várias atividades do Sul eram classificadas como agricultura, mesmo quando equivalentes às manufatureiras do Norte.\n",
    "\n",
    "Exemplos, engenhos de açúcar, moinhos de cereais, oficinas de ferreiros em plantations."
   ]
  },
  {
   "cell_type": "markdown",
   "metadata": {
    "editable": true,
    "slideshow": {
     "slide_type": "subslide"
    },
    "tags": []
   },
   "source": [
    "Quando ajustados, incluindo engenhos de açúcar e artesãos, mais da metade da diferença aparente entre Norte e Sul desaparece e Sul torna-se maior que Centro Oeste em termos da força de trabalho industrial."
   ]
  },
  {
   "cell_type": "markdown",
   "metadata": {
    "editable": true,
    "slideshow": {
     "slide_type": "slide"
    },
    "tags": []
   },
   "source": [
    "## Escravidão nas fábricas\n",
    "\n",
    "Escravizados foram amplamente empregados em manufaturas do Sul.\n",
    "\n",
    "O emprego ocorreu inclusive em indústrias mais complexas tecnologicamente como na metalúrgica.\n",
    "\n",
    "Empresas mistas (livres + escravizados) eram tão ou mais lucrativas que as baseadas só em trabalho livre."
   ]
  },
  {
   "cell_type": "markdown",
   "metadata": {
    "editable": true,
    "slideshow": {
     "slide_type": "subslide"
    },
    "tags": []
   },
   "source": [
    "## Demanda de trabalho escravo\n",
    "\n",
    "No setor urbano, a demanda de traablho cresceu em todas as décadas de 1820–1860.\n",
    "\n",
    "A queda *relativa* nas cidades (1850–1860) ocorreu porque os preços do trabalho escravo subiram e a mão de obra livre (imigrantes) tornou-se substituto mais barato.\n",
    "\n",
    "Demanda de trabalho escravo no setor rural - inelástica, pois a escravidão oferecia vantagem única nas plantations com sistema de turmas."
   ]
  },
  {
   "cell_type": "markdown",
   "metadata": {
    "editable": true,
    "slideshow": {
     "slide_type": "subslide"
    },
    "tags": []
   },
   "source": [
    "Demanda no setor urbano - elástica com  substituição mais fácil por trabalho livre."
   ]
  },
  {
   "cell_type": "markdown",
   "metadata": {
    "editable": true,
    "slideshow": {
     "slide_type": "slide"
    },
    "tags": []
   },
   "source": [
    "## Papel das mulheres na industrialização\n",
    "\n",
    "Na região Nordeste, as fábricas recorreram amplamente ao trabalho de mulheres e crianças na têxtil, representando mais de 80% da força de trabalho em 1832.\n",
    "\n",
    "No Sul, apenas 10% da força fabril era feminina; mulheres recebiam 60–70% do salário masculino contra 40% no Norte.\n",
    "\n",
    "Possível causa: trabalho feminino foi mais valorizado na lavoura de algodão e de tabaco por sua habilidade e destreza."
   ]
  },
  {
   "cell_type": "markdown",
   "metadata": {
    "editable": true,
    "slideshow": {
     "slide_type": "slide"
    },
    "tags": []
   },
   "source": [
    "## Imigração, Norte\n",
    "\n",
    "Grande influxo de imigrantes irlandeses e alemães (anos 1840-1850) barateou a mão de obra no Norte.\n",
    "\n",
    "A entrada de imigrantes provovou queda maior nos salários de trabalhadores não-qualificados que nos qualificados (aumento do prêmio do trabalho qualificado, skilled).\n",
    "\n",
    "Nos anos 1840-1850, portanto, rápida expansão manufatureira baseada em mão-de-obra imigrante abundante e barata (notar: custo unitário de produção, considerando produtividade do trabalho)."
   ]
  },
  {
   "cell_type": "markdown",
   "metadata": {
    "editable": true,
    "slideshow": {
     "slide_type": "subslide"
    },
    "tags": []
   },
   "source": [
    "Analise os dados de migração para o Oeste do Sul dos Estados Unidos e responda: como a taxa de migração explica o hiato salarial persistente de 20-40% dentro do Sul?"
   ]
  },
  {
   "cell_type": "markdown",
   "metadata": {
    "editable": true,
    "slideshow": {
     "slide_type": "slide"
    },
    "tags": []
   },
   "source": [
    "## Questões\n",
    "\n",
    "Como os problemas de classificação censitária distorcem a comparação entre as atividades manufatureiras do Norte e do Sul?\n",
    "\n",
    "De que forma o sistema de turmas nas plantations escravistas e a elasticidade da demanda por escravizados no campo influenciaram a trajetória econômica do Sul?\n",
    "\n",
    "Avalie qual pode ter sido o papel do trabalho feminino, infantil e imigrante na expansão industrial do Nordeste em contraste com o Sul."
   ]
  }
 ],
 "metadata": {
  "celltoolbar": "Slideshow",
  "kernelspec": {
   "display_name": "Python 3 (ipykernel)",
   "language": "python",
   "name": "python3"
  },
  "language_info": {
   "codemirror_mode": {
    "name": "ipython",
    "version": 3
   },
   "file_extension": ".py",
   "mimetype": "text/x-python",
   "name": "python",
   "nbconvert_exporter": "python",
   "pygments_lexer": "ipython3",
   "version": "3.11.13"
  },
  "toc": {
   "base_numbering": 1,
   "nav_menu": {},
   "number_sections": false,
   "sideBar": true,
   "skip_h1_title": true,
   "title_cell": "Table of Contents",
   "title_sidebar": "Contents",
   "toc_cell": false,
   "toc_position": {},
   "toc_section_display": true,
   "toc_window_display": false
  }
 },
 "nbformat": 4,
 "nbformat_minor": 4
}
