{
 "cells": [
  {
   "cell_type": "markdown",
   "metadata": {
    "editable": true,
    "jp-MarkdownHeadingCollapsed": true,
    "slideshow": {
     "slide_type": "slide"
    },
    "tags": []
   },
   "source": [
    "## <center>História Econômica da Escravidão - FEA-USP</center>\n",
    "\n",
    "### <center>Aula 2.1 - Contexto e evolução do sistema escravista</center>\n",
    "\n",
    "#### <center>Mapas e dados de apoio</center>\n",
    "\n",
    "#### <center>Renato Perim Colistete</center>\n",
    "\n",
    "\n",
    "#### <center>2025</center>"
   ]
  },
  {
   "cell_type": "markdown",
   "metadata": {
    "editable": true,
    "slideshow": {
     "slide_type": "slide"
    },
    "tags": []
   },
   "source": [
    "## Mapas\n",
    "\n",
    "A seguir, os mapas e dados de apoio para aula do tópico. Veja também as perguntas adicionadas ao final."
   ]
  },
  {
   "cell_type": "markdown",
   "metadata": {
    "slideshow": {
     "slide_type": "fragment"
    }
   },
   "source": [
    "A consulta aos mapas durante a leitura é altamente recomendada para identificar visualmente características geográficas, localidades e rotas citadas nos textos. "
   ]
  },
  {
   "cell_type": "markdown",
   "metadata": {
    "editable": true,
    "slideshow": {
     "slide_type": "slide"
    },
    "tags": []
   },
   "source": [
    "### <center>Principais destinos do tráfico transatlântico, 1451-1870</center>\n",
    "\n",
    "<center><img src=\"2.1_importers_slaves_fogel_1.png\" width=\"700\"></center>"
   ]
  },
  {
   "cell_type": "markdown",
   "metadata": {
    "editable": true,
    "slideshow": {
     "slide_type": "slide"
    },
    "tags": []
   },
   "source": [
    "### <center>Produção de Algodão nos Estados Unidos, 1791-1861</center>\n",
    "\n",
    "<center><img src=\"2.1_cotton_production_fogel_2.png\" width=\"600\"></center>"
   ]
  },
  {
   "cell_type": "markdown",
   "metadata": {
    "editable": true,
    "slideshow": {
     "slide_type": "slide"
    },
    "tags": []
   },
   "source": [
    "### <center>Participação de escravizados de origem africana, Estados Unidos, 1640-1860</center>\n",
    "\n",
    "<center><img src=\"2.1_foreign_born_fogel_3.png\" width=\"700\"></center>"
   ]
  },
  {
   "cell_type": "markdown",
   "metadata": {
    "editable": true,
    "slideshow": {
     "slide_type": "slide"
    },
    "tags": []
   },
   "source": [
    "### <center>Entrada de escravizados por década, Estados Unidos, 1630-1860</center>\n",
    "\n",
    "<center><img src=\"2.1_imports_slaves_us_fogel_4.png\" width=\"600\"></center>"
   ]
  },
  {
   "cell_type": "markdown",
   "metadata": {
    "editable": true,
    "slideshow": {
     "slide_type": "slide"
    },
    "tags": []
   },
   "source": [
    "## Dados básicos\n",
    "\n",
    "A seguir, dados selecionados de Fogel (1989), cap. 1."
   ]
  },
  {
   "cell_type": "markdown",
   "metadata": {
    "editable": true,
    "slideshow": {
     "slide_type": "subslide"
    },
    "tags": []
   },
   "source": [
    "### O tamanho do tráfico africano nas Américas\n",
    "\n",
    "Total de africanos transportados para o Novo Mundo (1502–1860s): 9,9 milhões. \n",
    "\n",
    "Distribuição por destino\n",
    "\n",
    "Brasil: 41% (4,06 milhões)\n",
    "\n",
    "Colônias britânicas e francesas no Caribe + América espanhola: 47% (4,65 milhões)\n",
    "\n",
    "Colônias holandesas, dinamarquesas e suecas: 5% (495 mil)\n",
    "\n",
    "Estados Unidos: 7% (693 mil)"
   ]
  },
  {
   "cell_type": "markdown",
   "metadata": {
    "editable": true,
    "slideshow": {
     "slide_type": "subslide"
    },
    "tags": []
   },
   "source": [
    "Nos Estados Unidos, mais de 75% dos escravizados chegaram antes de 1810, ou seja, antes do boom do algodão"
   ]
  },
  {
   "cell_type": "markdown",
   "metadata": {
    "editable": true,
    "slideshow": {
     "slide_type": "slide"
    },
    "tags": []
   },
   "source": [
    "## Importância do açúcar\n",
    "\n",
    "Entre 60% e 70% dos africanos foram enviados para colônias açucareiras.\n",
    "\n",
    "Exportações (1787)\n",
    "\n",
    "Caribe Britânico: 106.000 toneladas (5 vezes mais do que o Brasil).\n",
    "\n",
    "Colônias francesas: Saint-Domingue, 86.000 toneladas; com as demais francesas, 125.000 toneladas.\n",
    "\n",
    "Espanha: pouco mais de 6% do comércio internacional.\n",
    "\n",
    "Holanda e Dinamarca: contribuição modesta, mas relevante (ex.: Suriname, St. Croix)."
   ]
  },
  {
   "cell_type": "markdown",
   "metadata": {
    "editable": true,
    "slideshow": {
     "slide_type": "slide"
    },
    "tags": []
   },
   "source": [
    "## Importância relativa do açúcar\n",
    "\n",
    "Em 1806, as colônias britânicas alcançaram uma participação de 55% no comércio global de açúcar.\n",
    "\n",
    "No final do século XVIII, mais da metade das exportações da Grã-Bretanha destinava-se a uma ou outra das colônias escravistas.\n",
    "\n",
    "Cerca de 80% da produção das plantations de açúcar era vendida nos mercados mundiais. \n",
    "\n",
    "E importante: na véspera da Independência dos Estados Unidos, a maioria das exportações de milho das treze colônias e mais de 90% das exportações de gado, laticínios e vegetais eram destinadas às colônias escravistas do Caribe."
   ]
  },
  {
   "cell_type": "markdown",
   "metadata": {
    "editable": true,
    "slideshow": {
     "slide_type": "slide"
    },
    "tags": []
   },
   "source": [
    "## Escala das plantations no Caribe\n",
    "\n",
    "Plantations britânicas:\n",
    "\n",
    "1650: média inferior a 10 escravizados. \n",
    "\n",
    "1680 (Barbados): mediana de 60 escravizados.\n",
    "\n",
    "1832 (Jamaica): mediana 150, com 25% vivendo em unidades com mais de 250 escravizados."
   ]
  },
  {
   "cell_type": "markdown",
   "metadata": {
    "editable": true,
    "slideshow": {
     "slide_type": "subslide"
    },
    "tags": []
   },
   "source": [
    "Cuba:\n",
    "\n",
    "1774: escravizados eram menos de 25% da população.\n",
    "\n",
    "1841: com o auge do açúcar, escravizados chegaram a quase 50% da população."
   ]
  },
  {
   "cell_type": "markdown",
   "metadata": {
    "editable": true,
    "jp-MarkdownHeadingCollapsed": true,
    "slideshow": {
     "slide_type": "slide"
    },
    "tags": []
   },
   "source": [
    "## Comparação e rentabilidade\n",
    "\n",
    "Capital médio dos engenhos na Jamaica no fim do séc. XVIII: £26.400 (154.000 dólares em 1860 aproximadamente 21 milhões dólares em 1986) e média de 200 escravizados\n",
    "\n",
    "maior que a\n",
    "\n",
    "média do capital investido (109.000 dólares) em 1860 e número de trabalhadores (130) na indústria têxtil algodoeira nos Estados Unidos em 1860.\n",
    "\n",
    "Durante o séc. XVIII, as grandes plantations de açúcar do Caribe operaram com taxa média de lucro de cerca de 10% sobre o capital investido, constituindo-se nas maiores empresas privadas da época."
   ]
  },
  {
   "cell_type": "markdown",
   "metadata": {
    "editable": true,
    "slideshow": {
     "slide_type": "slide"
    },
    "tags": []
   },
   "source": [
    "## Trabalho, disciplina e esforço\n",
    "\n",
    "Sistema de turmas (gangs), com 10 a 20 escravizados e um feitor: no final do séc. XVIII, cerca de metade dos homens adultos (> 16 anos) e até 5/6 das mulheres adultas nas plantations de açúcar no Caribe trabalhavam em turmas.\n",
    "\n",
    "Nas plantations de algodão no sul dos Estados Unidos, proporção maior: cerca de 75% dos homens adultos trabalhavam em turmas.\n",
    "\n",
    "Jornada média nas plantations de algodão nos EUA: cerca de 58 horas semanais, menor que as 72 horas dos tecelões ingleses no início do séc. XIX."
   ]
  },
  {
   "cell_type": "markdown",
   "metadata": {
    "editable": true,
    "slideshow": {
     "slide_type": "subslide"
    },
    "tags": []
   },
   "source": [
    "Busca de aumento de produtividade por divisão de tarefas, competição entre turmas e cotas diárias, além de estudo de tempo e movimento combinado com supervisão estrita e ameaça e imposição de violência.\n",
    "\n",
    "Exemplo de exploração: mulheres grávidas e lactantes: até a semana anterior ao parto produziam 75% ou mais da média das outras mulheres; 2 meses após o parto: 67% da produtividade; 3 meses: 90% da produtividade."
   ]
  },
  {
   "cell_type": "markdown",
   "metadata": {
    "editable": true,
    "slideshow": {
     "slide_type": "slide"
    },
    "tags": []
   },
   "source": [
    "## Demografia e particularidades do sul dos Estados Unidos\n",
    "\n",
    "Baixa participação no tráfico: apenas 7% dos desembarques.\n",
    "\n",
    "Crescimento demográfico positivo via aumento natural da população escravizada (taxa de natalidade > taxa de mortalidade), ao contrário do Caribe e Brasil, que dependiam de importações contínuas.\n",
    "\n",
    "População escravizada\n",
    "\n",
    "1700: em torno de 27.000 (todas as 13 colônias)"
   ]
  },
  {
   "cell_type": "markdown",
   "metadata": {
    "editable": true,
    "slideshow": {
     "slide_type": "subslide"
    },
    "tags": []
   },
   "source": [
    "1770: cerca de 120.000 (maioria dos escravizados nascidos localmente; em 1850, praticamente todos nativos).\n",
    "\n",
    "1800: por volta de 1 milhão.\n",
    "\n",
    "1825: cerca de 1,75 milhão, representando 36% de todos os escravizados do Novo Mundo."
   ]
  },
  {
   "cell_type": "markdown",
   "metadata": {
    "editable": true,
    "slideshow": {
     "slide_type": "slide"
    },
    "tags": []
   },
   "source": [
    "## Trabalho por produto, sul do Estados Unidos\n",
    "\n",
    "Algodão: mediana de 35 escravizados (1860), 64% do total de escravizados.\n",
    "\n",
    "Tabaco: mediana de 20 (período colonial) a 35 escravizados (1860), 12% do total de escravizados.\n",
    "\n",
    "Açúcar (Louisiana): aproximadamente 100 escravizados (1860), 5% dos escravizados.\n",
    "\n",
    "Arroz: plantações maiores que tabaco e algodão, 4% dos escravizados."
   ]
  },
  {
   "cell_type": "markdown",
   "metadata": {
    "editable": true,
    "slideshow": {
     "slide_type": "slide"
    },
    "tags": []
   },
   "source": [
    "### Questões\n",
    "\n",
    "De que forma a experiência dos Estados Unidos com a escravidão difere significativamente de outras colônias do Novo Mundo, especialmente em relação à sua participação no tráfico transatlântico e ao crescimento da população escrava?\n",
    "\n",
    "Analise a afirmação de Fogel de que foi a atração pelo açúcar na Europa, \"e não seu vício do tabaco ou sua paixão pelo algodão\" que determinou a extensão do tráfico atlântico de escravizados\". Como os dados apresentados sustentam essa tese?\n",
    "\n",
    "Como evoluiu o tamanho médio das plantations escravistas do Caribe britânico entre 1650 e 1832 e quais foram as implicações sociais dessa mudança?"
   ]
  },
  {
   "cell_type": "markdown",
   "metadata": {
    "editable": true,
    "slideshow": {
     "slide_type": "subslide"
    },
    "tags": []
   },
   "source": [
    "O que foi o \"sistema de turmas (gangs)\" e como ele foi fundamental para o desenvolvimento de uma \"nova disciplina de trabalho industrial\" nas plantations escravistas do sul dos Estados Unidos e do Caribe?\n",
    "\n",
    "Baseado nos dados de investimento e organização apresentados por Fogel, analise por que as grandes plantations do Caribe podem ser consideradas as primeiras empresas industriais modernas, comparando-as com as fábricas têxteis do século XIX."
   ]
  }
 ],
 "metadata": {
  "celltoolbar": "Slideshow",
  "kernelspec": {
   "display_name": "Python 3 (ipykernel)",
   "language": "python",
   "name": "python3"
  },
  "language_info": {
   "codemirror_mode": {
    "name": "ipython",
    "version": 3
   },
   "file_extension": ".py",
   "mimetype": "text/x-python",
   "name": "python",
   "nbconvert_exporter": "python",
   "pygments_lexer": "ipython3",
   "version": "3.9.23"
  },
  "toc": {
   "base_numbering": 1,
   "nav_menu": {},
   "number_sections": false,
   "sideBar": true,
   "skip_h1_title": true,
   "title_cell": "Table of Contents",
   "title_sidebar": "Contents",
   "toc_cell": false,
   "toc_position": {},
   "toc_section_display": true,
   "toc_window_display": false
  }
 },
 "nbformat": 4,
 "nbformat_minor": 4
}
