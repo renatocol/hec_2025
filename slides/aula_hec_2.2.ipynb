{
 "cells": [
  {
   "cell_type": "markdown",
   "metadata": {
    "editable": true,
    "jp-MarkdownHeadingCollapsed": true,
    "slideshow": {
     "slide_type": "slide"
    },
    "tags": []
   },
   "source": [
    "## <center>História Econômica da Escravidão - FEA-USP</center>\n",
    "\n",
    "### <center>Aula 2.2 - Mercado de trabalho e ocupações</center>\n",
    "\n",
    "#### <center>Mapas e dados de apoio</center>\n",
    "\n",
    "#### <center>Renato Perim Colistete</center>\n",
    "\n",
    "\n",
    "#### <center>2025</center>"
   ]
  },
  {
   "cell_type": "markdown",
   "metadata": {
    "editable": true,
    "slideshow": {
     "slide_type": "slide"
    },
    "tags": []
   },
   "source": [
    "## Mapas\n",
    "\n",
    "A seguir, os mapas e dados de apoio para aula do tópico. Veja também as perguntas adicionadas ao final."
   ]
  },
  {
   "cell_type": "markdown",
   "metadata": {
    "slideshow": {
     "slide_type": "fragment"
    }
   },
   "source": [
    "A consulta aos mapas durante a leitura é altamente recomendada para identificar visualmente características geográficas, localidades e rotas citadas nos textos. "
   ]
  },
  {
   "cell_type": "markdown",
   "metadata": {
    "editable": true,
    "slideshow": {
     "slide_type": "slide"
    },
    "tags": []
   },
   "source": [
    "### <center>Distribuição das ocupações de escravizados adutos em quatro regiões, por sexo</center>\n",
    "\n",
    "<center><img src=\"2.2_occupational_distribution_slaves_fogel_5.png\" width=\"400\"></center>"
   ]
  },
  {
   "cell_type": "markdown",
   "metadata": {
    "editable": true,
    "slideshow": {
     "slide_type": "slide"
    },
    "tags": []
   },
   "source": [
    "### <center>Ocupações de elite por tamanho da plantation em Trinidad</center>\n",
    "\n",
    "<center><img src=\"2.2_elite_occupations_fogel_6.png\" width=\"400\"></center>"
   ]
  },
  {
   "cell_type": "markdown",
   "metadata": {
    "editable": true,
    "slideshow": {
     "slide_type": "slide"
    },
    "tags": []
   },
   "source": [
    "### <center>Rendimentos líquidos de escravizados por idade, sul dos Estados Unidos, c. 1850</center>\n",
    "\n",
    "<center><img src=\"2.2_life_cycle_males_fogel_7.png\" width=\"400\"></center>"
   ]
  },
  {
   "cell_type": "markdown",
   "metadata": {
    "editable": true,
    "slideshow": {
     "slide_type": "slide"
    },
    "tags": []
   },
   "source": [
    "### <center>Rendimentos líquidos de escravizados por idade e sexo, sul dos Estados Unidos, c. 1850</center>\n",
    "\n",
    "<center><img src=\"2.2_life_cycle_males_females_fogel_8.png\" width=\"400\"></center>"
   ]
  },
  {
   "cell_type": "markdown",
   "metadata": {
    "editable": true,
    "slideshow": {
     "slide_type": "slide"
    },
    "tags": []
   },
   "source": [
    "## Dados básicos\n",
    "\n",
    "A seguir, dados selecionados de Fogel (1989), cap. 2."
   ]
  },
  {
   "cell_type": "markdown",
   "metadata": {
    "editable": true,
    "slideshow": {
     "slide_type": "slide"
    },
    "tags": []
   },
   "source": [
    "## Vocabulário I\n",
    "\n",
    "Drivers - feitores, capatazes\n",
    "\n",
    "Craftmen/women - artesãos, artesãs\n",
    "\n",
    "Gang-system - sistema de turmas\n",
    "\n",
    "Field laborer - trabalhador do eito\n",
    "\n",
    "1 inch = 1 polegada = 2,54 cm"
   ]
  },
  {
   "cell_type": "markdown",
   "metadata": {
    "editable": true,
    "slideshow": {
     "slide_type": "slide"
    },
    "tags": []
   },
   "source": [
    "## Vocabulário II - Ocupações\n",
    "\n",
    "Boilers - caldeireiros\n",
    "\n",
    "Blacksmiths - ferreiros\n",
    "\n",
    "Coopers - tanoeiros (quem trabalha com tonéis, pipas, barris e vasilhas semelhantes)\n",
    "\n",
    "Masons - pedreiros\n",
    "\n",
    "Potters - oleiros, ceramistas (o que trabalha em louças de barro, tijolos, telhas, etc.)"
   ]
  },
  {
   "cell_type": "markdown",
   "metadata": {
    "editable": true,
    "slideshow": {
     "slide_type": "slide"
    },
    "tags": []
   },
   "source": [
    "## Gang-system economies vs. escravidão marginal\n",
    "\n",
    "Gang-system economies (ex.: Sul dos EUA, Cuba no século XIX, Jamaica):\n",
    "\n",
    "Maioria dos escravizados empregados na agricultura.\n",
    "\n",
    "Menos de 10% em áreas urbanas.\n",
    "\n",
    "Entre 10–20% em serviços domésticos, dependendo da urbanização."
   ]
  },
  {
   "cell_type": "markdown",
   "metadata": {
    "editable": true,
    "slideshow": {
     "slide_type": "subslide"
    },
    "tags": []
   },
   "source": [
    "Escravidão marginal (ex.: México, Peru, Cuba antes de 1760):\n",
    "\n",
    "Menor proporção de escravizados na população total.\n",
    "\n",
    "Maior presença em áreas urbanas, muitos como domésticos ou em atividades artesanais.\n",
    "\n",
    "Escravizados urbanos podiam se alugar a terceiros, pagando parte da renda ao senhor."
   ]
  },
  {
   "cell_type": "markdown",
   "metadata": {
    "editable": true,
    "slideshow": {
     "slide_type": "slide"
    },
    "tags": []
   },
   "source": [
    "## 2. Elites ocupacionais\n",
    "\n",
    "Nos sistemas de turmas (gang systems), artesãos, feitores e administradores estavam mais concentrados nas grandes plantações do que nas cidades.\n",
    "\n",
    "A entrada de escravizados em cargos especializados foi lenta: inicialmente, artesãos, feitores (drivers) e administradores (managers) eram brancos (ex.: Barbados no séc. XVII).\n",
    "\n",
    "A partir do século XVIII, cresceu o número de escravizados artesãos e feitores.\n",
    "\n",
    "No sul dos Estados Unidos, por volta de 1850–1860, ainda havia grande presença de escravizados em posições de chefia, embora as leis restritivas após 1825 tenham limitado sua mobilidade."
   ]
  },
  {
   "cell_type": "markdown",
   "metadata": {
    "editable": true,
    "slideshow": {
     "slide_type": "slide"
    },
    "tags": []
   },
   "source": [
    "## Distribuição entre trabalho no eito e outras atividades\n",
    "\n",
    "Censos (Trinidad, Jamaica, Suriname) mostram que 72–80% dos escravizados eram trabalhadores do eito (lavoura).\n",
    "\n",
    "Apenas 44–57% eram efetivamente parte do sistema de turmas; os demais estavam em pequenas unidades agrícolas ou em ocupações de apoio (atividades artesanais, supervisão, transporte); serviços urbanos.\n",
    "\n",
    "No Sul dos EUA (1850): 64% da força de trabalho escrava empregados em fazendas de algodão (~1,4 milhão).\n",
    "\n",
    "Mas apenas 38% do tempo de trabalho eram dedicados ao algodão. Outros 31% em milho e pecuária, 31% em construção, cercas, hortas, manufatura doméstica (vestuário)."
   ]
  },
  {
   "cell_type": "markdown",
   "metadata": {
    "editable": true,
    "slideshow": {
     "slide_type": "slide"
    },
    "tags": []
   },
   "source": [
    "## Estatura na seleção de ocupações\n",
    "\n",
    "A estatura foi estatisticamente importante para alocação de escravizados como ferreiros, tanoeiros, carpinteiros, além de cagos de supervisão.\n",
    "\n",
    "Dados de Trinidad: homem tendo altura de 3 polegadas maior que a média possuía 62% maior probabilidade de tornar-se artesão ou feitor.\n",
    "\n",
    "Feitores eram em média 1,5 polegada (3,8 cm) mais altos que trabalhadores do eito."
   ]
  },
  {
   "cell_type": "markdown",
   "metadata": {
    "editable": true,
    "slideshow": {
     "slide_type": "slide"
    },
    "tags": []
   },
   "source": [
    "## Gênero e cor nas ocupações\n",
    "\n",
    "Surpreendentemente, mulheres eram dominantes no trabalho do eito: 66–84% mulheres adultas x 42–71% homens.\n",
    "\n",
    "Divisão de trabalho, homens jovens: arado (plow); mulheres e crianças: enxada (hoe), colheita do algodão (maioria).\n",
    "\n",
    "Ocupações “de elite”, skilled (feitores, caldeireiros, carpinteiros, pedreiros, oleiros, ferreiros) eram quase exclusivamente masculinas (~20% dos homens adultos).\n",
    "\n",
    "Entre ocupações skilled (artesanais), em Trinidad, apenas 2 de 1.300 artesãos eram mulheres. Estatura e força física favoreciam a seleção de feitores e artesãos."
   ]
  },
  {
   "cell_type": "markdown",
   "metadata": {
    "editable": true,
    "slideshow": {
     "slide_type": "subslide"
    },
    "tags": []
   },
   "source": [
    "Em Trinidad:\n",
    "\n",
    "Pardos e nascidos na colônia (crioulos) tinham maior chance de serem alocados para atividades artesanais e supervisão.\n",
    "\n",
    "Mulheres pardas tinham 6 vezes mais chances de ocupação doméstica do que mulheres pretas.\n",
    "\n",
    "Ainda assim, e importante: 86% das ocupações qualificadas (skilled) e de supervisão eram preenchidas por escravizados pretos, reflexo da absoluta maioria demográfica."
   ]
  },
  {
   "cell_type": "markdown",
   "metadata": {
    "editable": true,
    "slideshow": {
     "slide_type": "slide"
    },
    "tags": []
   },
   "source": [
    "## Determinantes de ocupações de elite\n",
    "\n",
    "Principal fator dominante: tamanho da plantation - pequenas (1–15 escravizados) tinham poucas ou nenhuma posição de elite; grandes (>50 escravizados) empregavam mais artesãos, feitores, administradores.\n",
    "\n",
    "Além disso, o produto agrícola dominante: açúcar, p.ex., exigia mais artesãos (caldeireiros, carpinteiros, ferreiros), algodão e tabaco menos.\n",
    "\n",
    "Em Trinidad (1813), em plantations pequenas, quase 40% não possuíam nenhum escravizado como artesão ou de supervisão; nas grandes, havia até 1 artesão para cada 4–5 trabalhadores do eito."
   ]
  },
  {
   "cell_type": "markdown",
   "metadata": {
    "editable": true,
    "slideshow": {
     "slide_type": "slide"
    },
    "tags": []
   },
   "source": [
    "## Tamanho das plantations\n",
    "\n",
    "Classificação - Pequenas: 1-15 escravizados; Intermediárias: 16-50 escravizados; Grandes: 51 ou mais escravizados.\n",
    "\n",
    "Em Trinidad, plantations pequenas possuíam aproximadamente 15% de ocupações qualificadas/de supervisão.\n",
    "\n",
    "Plantations intermediárias e grandes: aproximadamente 25% de ocupações skilled/de supervisão."
   ]
  },
  {
   "cell_type": "markdown",
   "metadata": {
    "editable": true,
    "slideshow": {
     "slide_type": "slide"
    },
    "tags": []
   },
   "source": [
    "## Ciclo de vida ocupacional - Sul dos Estados Unidos\n",
    "\n",
    "Escravizados entravam no trabalho já com 3–4 anos em “turmas de crianças”. Aos 7–12 anos completavam o ciclo de integração à força de trabalho.\n",
    "\n",
    "Jovens (até aproximadamente 20 anos): quase todos no eito. Adultos (25–40 anos): alguns homens eram promovidos a artesãos, feitores; mulheres a domésticas.\n",
    "\n",
    "Maiores de 40 anos: tarefas com menor esforço físico como jardinagem, vigilância, tecelagem (mulheres principalmente).\n",
    "\n",
    "Em geral, um trabalhador escravizado no sul dos Estados Unidos gerava rendimento líquido positivo até idades avançadas, por volta de 75 anos."
   ]
  },
  {
   "cell_type": "markdown",
   "metadata": {
    "editable": true,
    "slideshow": {
     "slide_type": "slide"
    },
    "tags": []
   },
   "source": [
    "Diferentemente do trabalho livre, em que aprendizes se tornavam artesãos desde cedo, entre escravizados o ingresso em ocupações de elite era adiado (20–30 anos), funcionando como recompensa por produtividade e adaptação à vantagem comparativa em cada idade."
   ]
  },
  {
   "cell_type": "markdown",
   "metadata": {
    "editable": true,
    "slideshow": {
     "slide_type": "slide"
    },
    "tags": []
   },
   "source": [
    "## Resumo da Progressão\n",
    "\n",
    "Infância: turmas de crianças a partir de 3-4 anos (\"trash gangs\" nos EUA, \"weeding gangs\" na Jamaica).\n",
    "\n",
    "Adolescência: transferência para trabalho de campo adulto (15-16 anos).\n",
    "\n",
    "Idade adulta: seleção para ocupações de elite (aproximadamente 20 anos).\n",
    "\n",
    "Idade avançada: transição para ocupações menos exigentes fisicamente."
   ]
  },
  {
   "cell_type": "markdown",
   "metadata": {
    "editable": true,
    "slideshow": {
     "slide_type": "slide"
    },
    "tags": []
   },
   "source": [
    "## Resumo do ciclo de vida dos rendimentos líquidos\n",
    "\n",
    "Ganhos líquidos de escravizados negativos até os 9 anos.\n",
    "\n",
    "Auge de rendimento líquido aos 35 anos.\n",
    "\n",
    "Rendimentos líquidos permaneciam positivos até cerca de 75 anos.\n",
    "\n",
    "Meninas superavam meninos escravizados em ganhos entre 5-17 anos (possível causa: amadurecimento mais rápido das meninas)."
   ]
  },
  {
   "cell_type": "markdown",
   "metadata": {
    "editable": true,
    "slideshow": {
     "slide_type": "slide"
    },
    "tags": []
   },
   "source": [
    "## Dados gerais\n",
    "\n",
    "Taxas de participação nos Estados Unidos: 2/3 dos escravizados e 1/3 da população livre do Norte."
   ]
  },
  {
   "cell_type": "markdown",
   "metadata": {
    "editable": true,
    "slideshow": {
     "slide_type": "slide"
    },
    "tags": []
   },
   "source": [
    "## Questões\n",
    "\n",
    "Qual a diferença entre as ocupações das economias de sistemas de turma (gang-system economies) e das sociedades onde a escravidão era marginal?\n",
    "\n",
    "De que forma o tamanho da plantation (pequena, média, grande na classificação do capítulo) influenciava a composição das ocupações de elite entre os escravos?\n",
    "\n",
    "Como fatores como gênero, estatura e cor influenciaram a distribuição de escravizados em ocupações do eito e em outras atividades?\n",
    "\n",
    "Descreva o padrão de entrada na força de trabalho e a progressão ocupacional dos escravizados ao longo da vida, incluindo as idades específicas de transição e as possíveis razões econômicas determinantes."
   ]
  }
 ],
 "metadata": {
  "celltoolbar": "Slideshow",
  "kernelspec": {
   "display_name": "Python 3 (ipykernel)",
   "language": "python",
   "name": "python3"
  },
  "language_info": {
   "codemirror_mode": {
    "name": "ipython",
    "version": 3
   },
   "file_extension": ".py",
   "mimetype": "text/x-python",
   "name": "python",
   "nbconvert_exporter": "python",
   "pygments_lexer": "ipython3",
   "version": "3.9.23"
  },
  "toc": {
   "base_numbering": 1,
   "nav_menu": {},
   "number_sections": false,
   "sideBar": true,
   "skip_h1_title": true,
   "title_cell": "Table of Contents",
   "title_sidebar": "Contents",
   "toc_cell": false,
   "toc_position": {},
   "toc_section_display": true,
   "toc_window_display": false
  }
 },
 "nbformat": 4,
 "nbformat_minor": 4
}
