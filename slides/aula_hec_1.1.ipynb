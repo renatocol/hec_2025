{
 "cells": [
  {
   "cell_type": "markdown",
   "metadata": {
    "editable": true,
    "slideshow": {
     "slide_type": "slide"
    },
    "tags": []
   },
   "source": [
    "## <center>História Econômica da Escravidão - FEA-USP</center>\n",
    "\n",
    "### <center>Aula 1.1 - Geografia e Etnias</center>\n",
    "\n",
    "#### <center>Mapas e dados de apoio</center>\n",
    "\n",
    "#### <center>Renato Perim Colistete</center>\n",
    "\n",
    "\n",
    "#### <center>2025</center>"
   ]
  },
  {
   "cell_type": "markdown",
   "metadata": {
    "editable": true,
    "slideshow": {
     "slide_type": "slide"
    },
    "tags": []
   },
   "source": [
    "## Mapas\n",
    "\n",
    "Apresenta-se a seguir uma seleção de mapas que servem de apoio para a leitura do texto indicado desta aula."
   ]
  },
  {
   "cell_type": "markdown",
   "metadata": {
    "slideshow": {
     "slide_type": "fragment"
    }
   },
   "source": [
    "A consulta aos mapas durante a leitura é altamente recomendada para identificar visualmente características geográficas, localidades e rotas citadas nos textos. "
   ]
  },
  {
   "cell_type": "markdown",
   "metadata": {
    "editable": true,
    "slideshow": {
     "slide_type": "fragment"
    },
    "tags": []
   },
   "source": [
    "Além daqueles contidos no próprio texto indicado, outros mapas, dados e figuras serão selecionados nesta e nas próximas aulas.\n"
   ]
  },
  {
   "cell_type": "markdown",
   "metadata": {
    "editable": true,
    "jp-MarkdownHeadingCollapsed": true,
    "slideshow": {
     "slide_type": "slide"
    },
    "tags": []
   },
   "source": [
    "### <center>O mundo atlântico, c, 1500</center>\n",
    "\n",
    "<center><img src=\"1.1_portuguese_1500_walvin_18.png\" width=\"1200\"></center>"
   ]
  },
  {
   "cell_type": "markdown",
   "metadata": {
    "editable": true,
    "slideshow": {
     "slide_type": "slide"
    },
    "tags": []
   },
   "source": [
    "### <center>Entrepostos europeus na África, c. 1660</center>\n",
    "\n",
    "<center><img src=\"1.1_entrepostos_africa_1660_mcevedy.png\" width=\"300\"></center>"
   ]
  },
  {
   "cell_type": "markdown",
   "metadata": {
    "editable": true,
    "slideshow": {
     "slide_type": "slide"
    },
    "tags": []
   },
   "source": [
    "### <center>Densidade populacional, África, c. 1800</center>\n",
    "\n",
    "<center><img src=\"1.1_population_africa_1800_mcevedy.png\" width=\"300\"></center>"
   ]
  },
  {
   "cell_type": "markdown",
   "metadata": {
    "editable": true,
    "slideshow": {
     "slide_type": "slide"
    },
    "tags": []
   },
   "source": [
    "### <center>As regiões do tráfico na costa da África ocidental</center>\n",
    "\n",
    "<center><img src=\"1.1_slaved_shipping_coast_walvin_26.png\" width=\"800\"></center>"
   ]
  },
  {
   "cell_type": "markdown",
   "metadata": {
    "editable": true,
    "slideshow": {
     "slide_type": "slide"
    },
    "tags": []
   },
   "source": [
    "### <center>Rotas do tráfico do Atlântico Sul</center>\n",
    "\n",
    "<center><img src=\"1.1_south_atlantic_routes_miller_38.png\" width=\"400\"></center>"
   ]
  },
  {
   "cell_type": "markdown",
   "metadata": {
    "editable": true,
    "slideshow": {
     "slide_type": "slide"
    },
    "tags": []
   },
   "source": [
    "### <center>Duração das viagens</center>\n",
    "\n",
    "<center><img src=\"1.1_sailing_times_walvin_51.png\" width=\"500\"></center>"
   ]
  },
  {
   "cell_type": "markdown",
   "metadata": {
    "editable": true,
    "slideshow": {
     "slide_type": "slide"
    },
    "tags": []
   },
   "source": [
    "### <center>África Central Ocidental</center>\n",
    "\n",
    "<center><img src=\"1.1_western_central_afica_miller_1.1.png\" width=\"400\"></center>"
   ]
  },
  {
   "cell_type": "markdown",
   "metadata": {
    "editable": true,
    "slideshow": {
     "slide_type": "slide"
    },
    "tags": []
   },
   "source": [
    "### <center>Geografia da África Central Ocidental</center>\n",
    "\n",
    "<center><img src=\"1.1_geo_western_central_africa_miller_1.2.png\" width=\"350\"></center>"
   ]
  }
 ],
 "metadata": {
  "celltoolbar": "Slideshow",
  "kernelspec": {
   "display_name": "Python 3 (ipykernel)",
   "language": "python",
   "name": "python3"
  },
  "language_info": {
   "codemirror_mode": {
    "name": "ipython",
    "version": 3
   },
   "file_extension": ".py",
   "mimetype": "text/x-python",
   "name": "python",
   "nbconvert_exporter": "python",
   "pygments_lexer": "ipython3",
   "version": "3.9.23"
  },
  "toc": {
   "base_numbering": 1,
   "nav_menu": {},
   "number_sections": false,
   "sideBar": true,
   "skip_h1_title": true,
   "title_cell": "Table of Contents",
   "title_sidebar": "Contents",
   "toc_cell": false,
   "toc_position": {},
   "toc_section_display": true,
   "toc_window_display": false
  }
 },
 "nbformat": 4,
 "nbformat_minor": 4
}
