{
 "cells": [
  {
   "cell_type": "markdown",
   "metadata": {
    "editable": true,
    "jp-MarkdownHeadingCollapsed": true,
    "slideshow": {
     "slide_type": "slide"
    },
    "tags": []
   },
   "source": [
    "## <center>História Econômica da Escravidão - FEA-USP</center>\n",
    "\n",
    "### <center>Aula 3.1 Geografia e economia</center>\n",
    "\n",
    "#### <center>Figuras e dados de apoio</center>\n",
    "\n",
    "#### <center>Renato Perim Colistete</center>\n",
    "\n",
    "\n",
    "#### <center>2025</center>"
   ]
  },
  {
   "cell_type": "markdown",
   "metadata": {
    "editable": true,
    "slideshow": {
     "slide_type": "slide"
    },
    "tags": []
   },
   "source": [
    "## Figuras e dados\n",
    "\n",
    "A seguir, as figuras e dados de apoio para aula do tópico. Veja também as perguntas adicionadas ao final."
   ]
  },
  {
   "cell_type": "markdown",
   "metadata": {
    "editable": true,
    "slideshow": {
     "slide_type": "fragment"
    },
    "tags": []
   },
   "source": [
    "A consulta aos mapas durante a leitura é altamente recomendada para identificar visualmente características geográficas, localidades e rotas citadas nos textos. "
   ]
  },
  {
   "attachments": {},
   "cell_type": "markdown",
   "metadata": {
    "editable": true,
    "jp-MarkdownHeadingCollapsed": true,
    "slideshow": {
     "slide_type": "slide"
    },
    "tags": []
   },
   "source": [
    "### <center>Mapa das colônias do Caribe, 1814</center>\n",
    "\n",
    "<center><img src=\"3.1_map_caribbean_1814.jpg\" width=\"600\"></center>"
   ]
  },
  {
   "attachments": {},
   "cell_type": "markdown",
   "metadata": {
    "editable": true,
    "jp-MarkdownHeadingCollapsed": true,
    "slideshow": {
     "slide_type": "slide"
    },
    "tags": []
   },
   "source": [
    "### <center>Outro mapa das colônias do Caribe</center>\n",
    "\n",
    "<center><img src=\"3.1_map_caribbean_sd.jpg\" width=\"500\"></center>"
   ]
  },
  {
   "attachments": {},
   "cell_type": "markdown",
   "metadata": {
    "editable": true,
    "slideshow": {
     "slide_type": "slide"
    },
    "tags": []
   },
   "source": [
    "### <center>Colônias britânicas no Caribe - área, população e datas de incorporação</center>\n",
    "\n",
    "<center><img src=\"3.1_british_colonies_caribbean_higman_3.1.png\" width=\"500\"></center>"
   ]
  },
  {
   "attachments": {},
   "cell_type": "markdown",
   "metadata": {
    "editable": true,
    "slideshow": {
     "slide_type": "slide"
    },
    "tags": []
   },
   "source": [
    "### <center>Distribuição da população escravizada por atividade nas colônias britânicas</center>\n",
    "\n",
    "<center><img src=\"3.1_slaved_pop_british_colonies_higman_3.2.png\" width=\"400\"></center>"
   ]
  },
  {
   "attachments": {},
   "cell_type": "markdown",
   "metadata": {
    "editable": true,
    "slideshow": {
     "slide_type": "slide"
    },
    "tags": []
   },
   "source": [
    "### <center>Distribuição da população escravizada por ocupações entre as colônias</center>\n",
    "\n",
    "<center><img src=\"3.1_slaved_pop_occup_british_colonies_higman_3.3.png\" width=\"500\"></center>"
   ]
  },
  {
   "attachments": {},
   "cell_type": "markdown",
   "metadata": {
    "editable": true,
    "jp-MarkdownHeadingCollapsed": true,
    "slideshow": {
     "slide_type": "slide"
    },
    "tags": []
   },
   "source": [
    "### <center>Toneladas de açúcar por escravizado por colônia, 1815-34</center>\n",
    "\n",
    "<center><img src=\"3.1_sugar_per_slaved_higman_3.4.png\" width=\"500\"></center>"
   ]
  },
  {
   "attachments": {},
   "cell_type": "markdown",
   "metadata": {
    "editable": true,
    "slideshow": {
     "slide_type": "slide"
    },
    "tags": []
   },
   "source": [
    "### <center>Produção de açúcar por colônias selecionadas, 1800-1835</center>\n",
    "\n",
    "<center><img src=\"3.1_sugar_production_higman_3.1.png\" width=\"500\"></center>"
   ]
  },
  {
   "attachments": {},
   "cell_type": "markdown",
   "metadata": {
    "editable": true,
    "slideshow": {
     "slide_type": "slide"
    },
    "tags": []
   },
   "source": [
    "### <center>Distribuição de escravizados por tipo de produção em Trinidad</center>\n",
    "\n",
    "<center><img src=\"3.1_slaved_per_crop_higman_3.7.png\" width=\"500\"></center>"
   ]
  },
  {
   "cell_type": "markdown",
   "metadata": {
    "editable": true,
    "slideshow": {
     "slide_type": "slide"
    },
    "tags": []
   },
   "source": [
    "## Dados básicos\n",
    "\n",
    "A seguir, dados selecionados de Higman (1984), cap. 3."
   ]
  },
  {
   "cell_type": "markdown",
   "metadata": {
    "editable": true,
    "slideshow": {
     "slide_type": "slide"
    },
    "tags": []
   },
   "source": [
    "## Características geográficas\n",
    "\n",
    "Grande variedade das características fisiográficas entre as colônias britânicas em termos de tamanho, topografia, solo e pluviosidade, com efeitos sobre culturas agrícolas e emprego de escravizados.\n",
    "\n",
    "Colônias continentais (Guiana Britânica e Honduras Britânica) possuíam maior área, embora com população escravizada concentrada em faixas costeiras e fluviais estreitas e pantanosas.\n",
    "\n",
    "Jamaica destaca-se como a maior ilha individual (4.411 milhas quadradas) e a maior população cativa, com 311.070 escravizados em 1834. Pelo critério de densidade demográfica, Barbados era a maior (500,9 escravizados/milha quadrada)."
   ]
  },
  {
   "cell_type": "markdown",
   "metadata": {
    "editable": true,
    "slideshow": {
     "slide_type": "subslide"
    },
    "tags": []
   },
   "source": [
    "## Características geográficas\n",
    "\n",
    "Colônias com baixa altitude (Bahamas, Anguilla, Barbuda, Cayman) eram áridas e com solos pobres; as maiores (Jamaica, Barbados, Trinidad) e com altitude mais elevada possuíam vales férteis e encostas que influenciaram a distribuição das fazendas e cultivos.\n",
    "\n",
    "Jamaica apresentava os maiores contrastes internos na ocorrência de chuvas, com menos de 70 pol (178 cm) nas planícies do sul e mais de 200 pol (508 cm) nas montanhas no leste.\n",
    "\n",
    "Pluovisidade variava entre as colônias de menos de 60 pol (150 cm)/ano a até mais de 250 pol (635 cm)/ano em Dominica."
   ]
  },
  {
   "cell_type": "markdown",
   "metadata": {
    "editable": true,
    "slideshow": {
     "slide_type": "slide"
    },
    "tags": []
   },
   "source": [
    "## Colônias e fases da expansão britânica no Caribe\n",
    "\n",
    "1625-1670 – colonização privada: Barbados, St. Kitts, Nevis, Antigua, Montserrat e Jamaica consolidaram-se como colônias açucareiras.\n",
    "\n",
    "1763 (Tratado de Paris) – \"conquista\" de Dominica, St. Vincent, Tobago e Grenada, transformadas em produtoras de açúcar, mas com relevo montanhoso que impediu domínio da monocultura.\n",
    "\n",
    "1797-1803 – aquisição de Trinidad (dos espanhóis), St. Lucia (dos franceses) e Guianas (dos holandeses); colônias de fronteira e governos sob controle direto da metrópole, predomínio do açúcar, mas também com outras culturas."
   ]
  },
  {
   "cell_type": "markdown",
   "metadata": {
    "editable": true,
    "slideshow": {
     "slide_type": "slide"
    },
    "tags": []
   },
   "source": [
    "## Distribuição ocupacional dos escravizados\n",
    "\n",
    "Dados gerais do Caribe Britânico, 1834.\n",
    "\n",
    "- 81,7% na força de trabalho ativa.\n",
    "\n",
    "- 85% em trabalho agrícola (\"predial\").\n",
    "\n",
    "- 15% em ocupações não-agrícolas."
   ]
  },
  {
   "cell_type": "markdown",
   "metadata": {
    "editable": true,
    "slideshow": {
     "slide_type": "subslide"
    },
    "tags": []
   },
   "source": [
    "## Principais categorias ocupacionais dos escravizados\n",
    "\n",
    "- Trabalhadores de campo (field laborers): 74,6% da força de trabalho\n",
    "\n",
    "- Domésticos: 12,9%\n",
    "\n",
    "- Artesãos (tradesmen): 6,2%\n",
    "\n",
    "- Supervisores (head people): 5,0%\n",
    "\n",
    "- Portos/navegação (on wharves): 1,3%"
   ]
  },
  {
   "cell_type": "markdown",
   "metadata": {
    "editable": true,
    "slideshow": {
     "slide_type": "slide"
    },
    "tags": []
   },
   "source": [
    "## Classificação das colônias - Primeira fase\n",
    "\n",
    "As colônias da *primeira fase* tornaram-se predominantemente açucureiras.\n",
    "\n",
    "Em Barbados, p.ex., açúcar, melaço e rum respondiam por até 98% das exportações.\n",
    "\n",
    "Na distribução do trabalho, 78 % dos escravizados viviam em engenhos de açúcar; 11 % em outros cultivos - algodão, gengibre, mantimentos; 11 % urbanos."
   ]
  },
  {
   "cell_type": "markdown",
   "metadata": {
    "editable": true,
    "slideshow": {
     "slide_type": "subslide"
    },
    "tags": []
   },
   "source": [
    "St. Kitts e Nevis eram monoculturas puras; Montserrat e Antígua mantinham pequenos setores de algodão e criação.\n",
    "\n",
    "Jamaica, pela diversidade topográfica, apresentava a economia mais diversificada: cerca de 50% dos cativos alocados em açúcar, 14% em café, 13% na pecuária, 7% em outros cultivos, 6% em trabalhos de turmas e 8% urbanos."
   ]
  },
  {
   "cell_type": "markdown",
   "metadata": {
    "editable": true,
    "slideshow": {
     "slide_type": "subslide"
    },
    "tags": []
   },
   "source": [
    "## Classificação das colônias - Segunda fase\n",
    "\n",
    "Colônias da *segunda fase* também açucareiras, mas com maior variação, mais diversificadas.\n",
    "\n",
    "Em Dominica, 46 % dos escravos engajados no café, maior que os 34% no açúcar.\n",
    "\n",
    "Açúcar dominante em St. Vincent (70%) e Granada (83%); café e cacau com proporções em torno 10-20%, com tendência de declínio; nas ilhas menores coexistiam engenhos e roças de algodão."
   ]
  },
  {
   "cell_type": "markdown",
   "metadata": {
    "editable": true,
    "slideshow": {
     "slide_type": "subslide"
    },
    "tags": []
   },
   "source": [
    "Granada com 83 % em açúcar (1819); 4% em algodão; 4% em café, cacau e outros.\n",
    "\n",
    "Tobago: declínio do açúcar após 1800, mas ainda 90% da força de trabalho escravizada empregada no setor açucareiro em 1834."
   ]
  },
  {
   "cell_type": "markdown",
   "metadata": {
    "editable": true,
    "slideshow": {
     "slide_type": "slide"
    },
    "tags": []
   },
   "source": [
    "## Classificação das colônias - Terceira fase\n",
    "\n",
    "Colônias da *terceira fase*, da fronteira, com rápida expansão do açúcar, substituição das culturas antigas e alta produtividade.\n",
    "\n",
    "St. Lucia, em 1815, possuía 60% dos escravizados na produção de açúcar, 20% no café, 4% em cacau, 2% em algodão. Em 1831, o açúcar aumentou sua participação.\n",
    "\n",
    "Trinidad, em 1813, 56% do trabalho cativo em açúcar, 19% em outros cultivos (café, cacau, algodão, mantimentos) e 24% urbanos; em 1830, o açúcar concentrava cerca de 70% do trabalho escravizado, enquanto o cacau expandiu entre libertos e pequenos proprietários.\n",
    "\n",
    "Na Guiana Britânica, também rápida conversão de café/algodão para o açúcar após 1800, com altíssima produtividade (0,65 t de açúcar por escravizado em 1830-34, contra 0,21 t na Jamaica)."
   ]
  },
  {
   "cell_type": "markdown",
   "metadata": {
    "editable": true,
    "slideshow": {
     "slide_type": "slide"
    },
    "tags": []
   },
   "source": [
    "## Produtiviades comparadas\n",
    "\n",
    "Considerando os anos de 1815 a 1834, as colônias antigas, da primeira fase (Barbados, Jamaica, Leewards), produziam 0,14 a 0,30 t de açúcar por escravizado/ano.\n",
    "\n",
    "As colônias da segunda fase (Dominica, St. Vincent, Grenada, Tobago) atingiam de 0,19 a 0,40 t.\n",
    "\n",
    "As de fronteira recente (Trinidad, Guiana) alcançavam 0,65 a 0,71 t.\n",
    "\n",
    "Esgotamento dos solos e menor produtividade do trabalho nas colônias mais antigas parecem ter sido determinantes dessas diferenças."
   ]
  },
  {
   "cell_type": "markdown",
   "metadata": {
    "editable": true,
    "slideshow": {
     "slide_type": "slide"
    },
    "tags": []
   },
   "source": [
    "## Questões\n",
    "\n",
    "Analise a relação entre as fases de colonização britânica no Caribe e o desenvolvimento de diferentes tipos de economia açucareira. Como o momento histórico da colonização influenciou o grau de monocultura e a estrutura política de cada colônia?\n",
    "\n",
    "Discuta como as características fisiográficas das colônias (tamanho, altitude, pluviosidade e qualidade do solo) determinaram os tipos de atividades econômicas desenvolvidas e, consequentemente, as experiências de trabalho das populações escravizadas. Use exemplos específicos de, pelo menos, três colônias com geografias contrastantes.\n",
    "\n",
    "Utilizando os dados ocupacionais de 1834, analise as diferenças entre as experiências de trabalho dos escravizados em colônias baseadas em monocultura (como Tobago, com 90% em açúcar) e as colônias diversificadas (como Jamaica, com múltiplas atividades econômicas). "
   ]
  }
 ],
 "metadata": {
  "celltoolbar": "Slideshow",
  "kernelspec": {
   "display_name": "Python 3 (ipykernel)",
   "language": "python",
   "name": "python3"
  },
  "language_info": {
   "codemirror_mode": {
    "name": "ipython",
    "version": 3
   },
   "file_extension": ".py",
   "mimetype": "text/x-python",
   "name": "python",
   "nbconvert_exporter": "python",
   "pygments_lexer": "ipython3",
   "version": "3.13.7"
  },
  "toc": {
   "base_numbering": 1,
   "nav_menu": {},
   "number_sections": false,
   "sideBar": true,
   "skip_h1_title": true,
   "title_cell": "Table of Contents",
   "title_sidebar": "Contents",
   "toc_cell": false,
   "toc_position": {},
   "toc_section_display": true,
   "toc_window_display": false
  }
 },
 "nbformat": 4,
 "nbformat_minor": 4
}
