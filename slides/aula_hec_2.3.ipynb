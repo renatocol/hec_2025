{
 "cells": [
  {
   "cell_type": "markdown",
   "metadata": {
    "editable": true,
    "jp-MarkdownHeadingCollapsed": true,
    "slideshow": {
     "slide_type": "slide"
    },
    "tags": []
   },
   "source": [
    "## <center>História Econômica da Escravidão - FEA-USP</center>\n",
    "\n",
    "### <center>Aula 2.3 - Lucratividade e eficiência</center>\n",
    "\n",
    "#### <center>Mapas e dados de apoio</center>\n",
    "\n",
    "#### <center>Renato Perim Colistete</center>\n",
    "\n",
    "\n",
    "#### <center>2025</center>"
   ]
  },
  {
   "cell_type": "markdown",
   "metadata": {
    "editable": true,
    "slideshow": {
     "slide_type": "slide"
    },
    "tags": []
   },
   "source": [
    "## Mapas\n",
    "\n",
    "A seguir, os mapas e dados de apoio para aula do tópico. Veja também as perguntas adicionadas ao final."
   ]
  },
  {
   "cell_type": "markdown",
   "metadata": {
    "editable": true,
    "slideshow": {
     "slide_type": "fragment"
    },
    "tags": []
   },
   "source": [
    "A consulta aos mapas durante a leitura é altamente recomendada para identificar visualmente características geográficas, localidades e rotas citadas nos textos. "
   ]
  },
  {
   "cell_type": "markdown",
   "metadata": {
    "editable": true,
    "slideshow": {
     "slide_type": "slide"
    },
    "tags": []
   },
   "source": [
    "### <center>Divisão administrativa dos Estados Unidos em 1860</center>\n",
    "\n",
    "<center><img src=\"us_states_1859-1860.png\" width=\"500\"></center>\n",
    "\n",
    "\n",
    "\n"
   ]
  },
  {
   "cell_type": "markdown",
   "metadata": {
    "editable": true,
    "slideshow": {
     "slide_type": "slide"
    },
    "tags": []
   },
   "source": [
    "### <center>Preços do açúcar das colônias do Caribe em Londres</center>\n",
    "\n",
    "<center><img src=\"2.3_sugar_prices_fogel_9.png\" width=\"500\"></center>"
   ]
  },
  {
   "cell_type": "markdown",
   "metadata": {
    "editable": true,
    "slideshow": {
     "slide_type": "slide"
    },
    "tags": []
   },
   "source": [
    "### <center>Expansão do algodão e da escravidão no Sul dos Estados Unidos</center>\n",
    "\n",
    "<center><img src=\"2.3_cotton_slaves_fogel_10.png\" width=\"350\"></center>"
   ]
  },
  {
   "cell_type": "markdown",
   "metadata": {
    "editable": true,
    "slideshow": {
     "slide_type": "slide"
    },
    "tags": []
   },
   "source": [
    "### <center>Preços médios de homens escravizados de acordo com faixa etária</center>\n",
    "\n",
    "<center><img src=\"2.3_price_male_slaves_fogel_11.png\" width=\"500\"></center>"
   ]
  },
  {
   "cell_type": "markdown",
   "metadata": {
    "editable": true,
    "slideshow": {
     "slide_type": "slide"
    },
    "tags": []
   },
   "source": [
    "### <center>Prêmios e descontos sobre os preços dos escravizados, Sul dos Estados Unidos</center>\n",
    "\n",
    "<center><img src=\"2.3_premium_slave_prices_fogel_12.png\" width=\"500\"></center>"
   ]
  },
  {
   "cell_type": "markdown",
   "metadata": {
    "editable": true,
    "slideshow": {
     "slide_type": "slide"
    },
    "tags": []
   },
   "source": [
    "### <center>Capacidade de trabalho de escravizados por idade e sexo (homens com 30-40 anos = 100)</center>\n",
    "\n",
    "<center><img src=\"2.3_work_capacicity_fogel_13.png\" width=\"500\"></center>"
   ]
  },
  {
   "cell_type": "markdown",
   "metadata": {
    "editable": true,
    "slideshow": {
     "slide_type": "slide"
    },
    "tags": []
   },
   "source": [
    "### <center>Eficiência de grandes plantations com escravizados e de propriedades com trabalho livre apenas</center>\n",
    "\n",
    "<center><img src=\"2.3_efficiency_fogel_14.png\" width=\"400\"></center>"
   ]
  },
  {
   "cell_type": "markdown",
   "metadata": {
    "editable": true,
    "slideshow": {
     "slide_type": "slide"
    },
    "tags": []
   },
   "source": [
    "## Dados básicos\n",
    "\n",
    "A seguir, dados selecionados de Fogel (1989), cap. 2."
   ]
  },
  {
   "cell_type": "markdown",
   "metadata": {
    "editable": true,
    "slideshow": {
     "slide_type": "slide"
    },
    "tags": []
   },
   "source": [
    "## Vocabulário \n",
    "\n",
    "Indigo - anil\n",
    "\n",
    "1 milha = 1,60934 km\n",
    "\n",
    "Gang-system - sistema de turmas"
   ]
  },
  {
   "cell_type": "markdown",
   "metadata": {
    "editable": true,
    "slideshow": {
     "slide_type": "slide"
    },
    "tags": []
   },
   "source": [
    "## Rentabilidade das plantations no Caribe britânico\n",
    "\n",
    "Taxas de retorno: média de 10% ao ano, chegando a 40–50% em Barbados (década de 1650) e raramente caindo abaixo de 4%.\n",
    "\n",
    "Mesmo no período pré-emancipação (anos 1820–1834): lucro médio de 7% ao ano.\n",
    "\n",
    "Diferenças regionais:\n",
    "\n",
    "Jamaica, antiga colônia (solos esgotados, restrições ao comércio interno de escravizados): taxa média de lucro de 5,3%.\n",
    "\n",
    "Trinidad e Guiana Britânica, novas colônias (solos férteis, recém-abertos): lucro médio 13,3%; escravizados valiam o dobro."
   ]
  },
  {
   "cell_type": "markdown",
   "metadata": {
    "editable": true,
    "slideshow": {
     "slide_type": "slide"
    },
    "tags": []
   },
   "source": [
    "## 2. Produtos das plantations do Sul dos Estados Unidos\n",
    "\n",
    "Principais produtos da economia do Sul dos Estados Unidos:\n",
    "\n",
    "Anil (indigo): desapareceu da pauta de exportação após 1790 diante da concorrência externa.\n",
    "\n",
    "Arroz: estagnado; manteve apenas crescimento moderado entre 1820s–1840s.\n",
    "\n",
    "Tabaco: absorvia em torno de 40% da mão de obra cativa antes da Independência.\n",
    "\n",
    "Tabaco recuperou-se no pós-Revolução da Independência, mas com ciclos longos de boom/depressão (1826–32; 1840–48)."
   ]
  },
  {
   "cell_type": "markdown",
   "metadata": {
    "editable": true,
    "slideshow": {
     "slide_type": "slide"
    },
    "tags": []
   },
   "source": [
    "Algodão:\n",
    "\n",
    "Transformou-se no motor da economia do Sul dos Estados Unidos, passando de cultura secundária em 1800 para principal produto exportado até 1860.\n",
    "\n",
    "Produção aumentou quase 10 vezes em 30 anos; área de cultivo expandiu-se rapidamente para o Oeste (Alabama, Mississippi, Louisiana, Texas).\n",
    "\n",
    "Em 1810–1860, a demanda por escravizados cresceu 20 vezes.\n",
    "\n",
    "Preço dos escravizados dobrou entre os anos 1840 e a Guerra Civil."
   ]
  },
  {
   "cell_type": "markdown",
   "metadata": {
    "editable": true,
    "slideshow": {
     "slide_type": "slide"
    },
    "tags": []
   },
   "source": [
    "## Movimento demográfico e tráfico interno\n",
    "\n",
    "Entre 1790–1860, 835.000 cativos deslocados para os estados produtores de algodão do Oeste no Sul dos Estados Unidos.\n",
    "\n",
    "Exportadores principais: Maryland, Virgínia, Carolina do Norte e Carolina do Sul (85% do total).\n",
    "\n",
    "Importadores principais: Alabama, Mississippi, Louisiana, Texas (75% do total).\n",
    "\n",
    "Debate inconcluso: se migraram com seus proprietários ou foram vendidos por intermediários. Estimativas: 16% a 60% por intermediários."
   ]
  },
  {
   "cell_type": "markdown",
   "metadata": {
    "editable": true,
    "slideshow": {
     "slide_type": "slide"
    },
    "tags": []
   },
   "source": [
    "## Preços\n",
    "\n",
    "Preços dos escravizados variaram com idade, sexo, saúde e habilidades (skills).\n",
    "\n",
    "Relativamente a homem ou mulher saudável da mesma idade = 100, as evidências indicam que:\n",
    "\n",
    "- prêmios de skills: mais altos para +55% (ferreiros), +45% (carpinteiros).\n",
    "\n",
    "- descontos: entre –20% e –65%, p.ex. para fugitivos (runaways), com vícios de bebida e com limitações físicas.\n",
    "\n",
    "Preço máximo em torno dos 25–30 anos."
   ]
  },
  {
   "cell_type": "markdown",
   "metadata": {
    "editable": true,
    "slideshow": {
     "slide_type": "slide"
    },
    "tags": []
   },
   "source": [
    "## Eficiência do trabalho escravizado\n",
    "\n",
    "Conceitos distintos: eficiência técnica (produtividade por insumo) e rentabilidade (lucro, retorno para o proprietário).\n",
    "\n",
    "Plantations médias e grandes (16+ e 50+ escravizados respectivamente) eram até 39% mais produtivas (total factor productivity) que fazendas apenas com trabalho livre ou pequenas plantations escravistas.\n",
    "\n",
    "Ao mesmo tempo, 90% da vantagem das plantations vinha das grandes plantações escravistas.\n",
    "\n",
    "Gang system (ou sistema de turmas) foi decisivo, mas com alta heterogeneidade entre as unidades produtivas (ver figura 14).\n",
    "\n",
    "Pequenas propriedades escravistas (1–15 escravistas) com produtividade próxima ou inferior às propriedades com trabalho livre."
   ]
  },
  {
   "cell_type": "markdown",
   "metadata": {
    "editable": true,
    "slideshow": {
     "slide_type": "slide"
    },
    "tags": []
   },
   "source": [
    "## Horas de trabalho entre Sul e Norte\n",
    "\n",
    "Nas plantations de algodão: média de 2.800 horas/ano; 281 dias trabalhados/ano; semana de trabalho em média de 5,4 dias.\n",
    "\n",
    "Zero trabalho aos domingos (característica única das grandes plantações).\n",
    "\n",
    "Nas propriedades com trabalho livre no Norte: média 3.200 horas/ano.\n",
    "\n",
    "Características distintas da atividade econômica no Norte: maior proporção de propriedades especializadas em laticínios e pecuária, mais exigência em tempo de trabalho."
   ]
  },
  {
   "cell_type": "markdown",
   "metadata": {
    "editable": true,
    "slideshow": {
     "slide_type": "subslide"
    },
    "tags": []
   },
   "source": [
    "## Intensidade do trabalho\n",
    "\n",
    "Escravizados no sistema de turmas trabalhavam 76% mais intensamente por hora de trabalho.\n",
    "\n",
    "No mesmo sistema, escravizados produziam em 35 minutos o que trabalhadores sob outros regimes realizavam em 1 hora.\n",
    "\n",
    "Em outras palavras, a exploração do trabalho dava-se pela aceleração do ritmo e do esforço de trabalho, não pelo aumento de horas trabalhadas."
   ]
  },
  {
   "cell_type": "markdown",
   "metadata": {
    "editable": true,
    "slideshow": {
     "slide_type": "slide"
    },
    "tags": []
   },
   "source": [
    "## Culturas agrícolas e o sistema de turmas\n",
    "\n",
    "O sistema de turmas adaptou-se e operou efetivamente apenas em cinco culturas/produtos.\n",
    "\n",
    "Açúcar: 100% produzido em plantations sob o sistema de turmas.\n",
    "\n",
    "Algodão e arroz: casos intermediários, mas com grande vantagem no uso do sistema.\n",
    "\n",
    "Tabaco: vantagens pequenas devido às limitadas oportunidades de divisão do trabalho, predomínio de pequena e média propriedade.\n",
    "\n",
    "Cânhamo (Hemp): cultura menor e pouco estudada."
   ]
  },
  {
   "cell_type": "markdown",
   "metadata": {
    "editable": true,
    "slideshow": {
     "slide_type": "slide"
    },
    "tags": []
   },
   "source": [
    "## Questões\n",
    "\n",
    "Como foi a trajetória dos principais produtos agrícolas do Sul dos Estados Unidos no período pós-Independência, em termos de importância econômica e uso da mão de obra escravizada?\n",
    "\n",
    "Explique o paradoxo aparente, segundo Fogel, de que escravizados trabalhavam menos horas por ano (2.800) do que trabalhadores livres do Norte (3.200), mas ainda assim as plantações do Sul eram mais produtivas (eficientes).\n",
    "\n",
    "Descreva os dados sobre o movimento interestadual de escravizados, considerando quantos foram deslocados entre 1790-1860, quais eram os principais estados exportadores e importadores e como esses resultados se relacionaram com a expansão da produção de algodão."
   ]
  },
  {
   "cell_type": "markdown",
   "metadata": {
    "editable": true,
    "slideshow": {
     "slide_type": "subslide"
    },
    "tags": []
   },
   "source": [
    "Como o sistema de turmas (gang system) influenciou a eficiência técnica das plantations médias e grandes em comparação às propriedades com trabalho livre e pequenas plantations escravistas?\n",
    "\n",
    "De que forma os escravistas precificavam o trabalho cativo, considerando fatores como idade, habilidades e características comportamentais? Forneça exemplos específicos de prêmios e descontos."
   ]
  }
 ],
 "metadata": {
  "celltoolbar": "Slideshow",
  "kernelspec": {
   "display_name": "Python 3 (ipykernel)",
   "language": "python",
   "name": "python3"
  },
  "language_info": {
   "codemirror_mode": {
    "name": "ipython",
    "version": 3
   },
   "file_extension": ".py",
   "mimetype": "text/x-python",
   "name": "python",
   "nbconvert_exporter": "python",
   "pygments_lexer": "ipython3",
   "version": "3.9.23"
  },
  "toc": {
   "base_numbering": 1,
   "nav_menu": {},
   "number_sections": false,
   "sideBar": true,
   "skip_h1_title": true,
   "title_cell": "Table of Contents",
   "title_sidebar": "Contents",
   "toc_cell": false,
   "toc_position": {},
   "toc_section_display": true,
   "toc_window_display": false
  }
 },
 "nbformat": 4,
 "nbformat_minor": 4
}
