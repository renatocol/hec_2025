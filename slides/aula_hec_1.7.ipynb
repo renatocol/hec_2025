{
 "cells": [
  {
   "cell_type": "markdown",
   "metadata": {
    "editable": true,
    "jp-MarkdownHeadingCollapsed": true,
    "slideshow": {
     "slide_type": "slide"
    },
    "tags": []
   },
   "source": [
    "## <center>História Econômica da Escravidão - FEA-USP</center>\n",
    "\n",
    "### <center>Aula 1.7 - Economia da mortalidade</center>\n",
    "\n",
    "#### <center>Mapas e dados de apoio</center>\n",
    "\n",
    "#### <center>Renato Perim Colistete</center>\n",
    "\n",
    "\n",
    "#### <center>2025</center>"
   ]
  },
  {
   "cell_type": "markdown",
   "metadata": {
    "editable": true,
    "slideshow": {
     "slide_type": "slide"
    },
    "tags": []
   },
   "source": [
    "## Mapas\n",
    "\n",
    "A seguir, os mapas e dados de apoio para aula do tópico. Veja também as perguntas adicionadas ao final."
   ]
  },
  {
   "cell_type": "markdown",
   "metadata": {
    "slideshow": {
     "slide_type": "fragment"
    }
   },
   "source": [
    "A consulta aos mapas durante a leitura é altamente recomendada para identificar visualmente características geográficas, localidades e rotas citadas nos textos. "
   ]
  },
  {
   "cell_type": "markdown",
   "metadata": {
    "editable": true,
    "slideshow": {
     "slide_type": "slide"
    },
    "tags": []
   },
   "source": [
    "### <center>Origem e destino dos escravizados na costa da África e Brasil</center>\n",
    "\n",
    "<center><img src=\"1.6_african_sources_miller_12.2.png\" width=\"700\"></center>"
   ]
  },
  {
   "cell_type": "markdown",
   "metadata": {
    "editable": true,
    "slideshow": {
     "slide_type": "slide"
    },
    "tags": []
   },
   "source": [
    "### <center>Correntes, ventos e rotas do Atlântico Sul</center>\n",
    "\n",
    "<center><img src=\"1.4_sailing_routes_miller_10.1.png\" width=\"400\"></center>"
   ]
  },
  {
   "cell_type": "markdown",
   "metadata": {
    "editable": true,
    "slideshow": {
     "slide_type": "slide"
    },
    "tags": []
   },
   "source": [
    "## Dados básicos\n",
    "\n",
    "A seguir, dados selecionados de Miller (1989), cap. 19."
   ]
  },
  {
   "cell_type": "markdown",
   "metadata": {
    "editable": true,
    "slideshow": {
     "slide_type": "subslide"
    },
    "tags": []
   },
   "source": [
    "### Economia da morte\n",
    "\n",
    "O escravizado africano, \"um gênero que com tanta facilidade perece\" (\"a commodity that died with such ease\"), na frase do Governador de Angola, Almeida e Vasconcelos, em 1792.\n",
    "\n",
    "O \"risco dos escravos\": eufemismo utilizado por comerciantes e funcionários para se referir à perda financeira causada pela morte dos escravos. Este risco era o fator mais variável e imprevisível nos cálculos econômicos.\n",
    "\n",
    "Lógica: evitar a posse dos escravizados no circuito do tráfico transatlântico."
   ]
  },
  {
   "cell_type": "markdown",
   "metadata": {
    "editable": true,
    "slideshow": {
     "slide_type": "subslide"
    },
    "tags": []
   },
   "source": [
    "Participantes mais poderosos do comércio – comerciantes em Lisboa, autoridades imperiais e, em grande parte, financiadores britânicos – evitavam a propriedade direta de escravos, transferindo para outros agentes."
   ]
  },
  {
   "cell_type": "markdown",
   "metadata": {
    "editable": true,
    "slideshow": {
     "slide_type": "fragment"
    },
    "tags": []
   },
   "source": [
    "Posse de bens de alta liquidez e de poder de comando geral - crédito, instrumentos financeiros, ouro, prata."
   ]
  },
  {
   "cell_type": "markdown",
   "metadata": {
    "editable": true,
    "slideshow": {
     "slide_type": "slide"
    },
    "tags": []
   },
   "source": [
    "### O lugar de cada elo\n",
    "\n",
    "Comunidades africanas: sacrificavam jovens para obter alimentos, mulheres, proteção e bens importados (propriedade).\n",
    "\n",
    "Reis e príncipes africanos: forma tradicional nos reinos via conversão de escravizados em bens, dependentes e poder político, enquanto príncipes mercadores adaptaram-se ao comércio de escravizados em sintonia com tráfico transatlântico (propriedade).\n",
    "\n",
    "Comerciantes luso-africanos: nos portos de Angola, comércio de escravizados por produtos da Europa e das Américas (propriedade)."
   ]
  },
  {
   "cell_type": "markdown",
   "metadata": {
    "editable": true,
    "slideshow": {
     "slide_type": "subslide"
    },
    "tags": []
   },
   "source": [
    "Comerciantes do Atlântico, portugueses da metrópole: negócio de produtos ou crédito/instrumentos de crédito (não propriedade).\n",
    "\n",
    "Negociantes britânicos: comércio de produtos manufaturados e, sobretudo, financiamento (bancos) e seguros (não propriedade).\n",
    "\n",
    "Proprietários nas Américas: exploração do trabalho escravizado nas fazendas, minas, núcleos urbanos para a produção de mercadorias e serviços (propriedade)."
   ]
  },
  {
   "cell_type": "markdown",
   "metadata": {
    "editable": true,
    "slideshow": {
     "slide_type": "slide"
    },
    "tags": []
   },
   "source": [
    "### Questões\n",
    "\n",
    "Qual era o principal risco financeiro no tráfico angolano de escravizados para os investidores e comerciantes?\n",
    "\n",
    "Como a alta mortalidade dos escravizados africanos influenciou as estratégias comerciais e a propriedade dos cativos no Atlântico Sul?\n",
    "\n",
    "De que maneira a organização do tráfico transatlântico buscava transferir o \"risco dos escravos\" (o risco de morte) para outras partes envolvidas?\n",
    "\n",
    "Descreva os participantes centrais do circuito do tráfico transatlântico e analise suas estratégias e poder relativo na hierarquia do comércio de pessoas."
   ]
  }
 ],
 "metadata": {
  "celltoolbar": "Slideshow",
  "kernelspec": {
   "display_name": "Python 3 (ipykernel)",
   "language": "python",
   "name": "python3"
  },
  "language_info": {
   "codemirror_mode": {
    "name": "ipython",
    "version": 3
   },
   "file_extension": ".py",
   "mimetype": "text/x-python",
   "name": "python",
   "nbconvert_exporter": "python",
   "pygments_lexer": "ipython3",
   "version": "3.9.23"
  },
  "toc": {
   "base_numbering": 1,
   "nav_menu": {},
   "number_sections": false,
   "sideBar": true,
   "skip_h1_title": true,
   "title_cell": "Table of Contents",
   "title_sidebar": "Contents",
   "toc_cell": false,
   "toc_position": {},
   "toc_section_display": true,
   "toc_window_display": false
  }
 },
 "nbformat": 4,
 "nbformat_minor": 4
}
