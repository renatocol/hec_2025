{
 "cells": [
  {
   "cell_type": "markdown",
   "metadata": {
    "editable": true,
    "jp-MarkdownHeadingCollapsed": true,
    "slideshow": {
     "slide_type": "slide"
    },
    "tags": []
   },
   "source": [
    "## <center>História Econômica da Escravidão - FEA-USP</center>\n",
    "\n",
    "### <center>Aula 1.3 - Comércio e Transporte</center>\n",
    "\n",
    "#### <center>Mapas e dados de apoio</center>\n",
    "\n",
    "#### <center>Renato Perim Colistete</center>\n",
    "\n",
    "\n",
    "#### <center>2025</center>"
   ]
  },
  {
   "cell_type": "markdown",
   "metadata": {
    "editable": true,
    "slideshow": {
     "slide_type": "slide"
    },
    "tags": []
   },
   "source": [
    "## Mapas\n",
    "\n",
    "A seguir, os mapas e dados de apoio para aula do tópico. Veja também as perguntas adicionadas ao final."
   ]
  },
  {
   "cell_type": "markdown",
   "metadata": {
    "slideshow": {
     "slide_type": "fragment"
    }
   },
   "source": [
    "A consulta aos mapas durante a leitura é altamente recomendada para identificar visualmente características geográficas, localidades e rotas citadas nos textos. "
   ]
  },
  {
   "cell_type": "markdown",
   "metadata": {
    "editable": true,
    "jp-MarkdownHeadingCollapsed": true,
    "slideshow": {
     "slide_type": "slide"
    },
    "tags": []
   },
   "source": [
    "### <center>Luanda e seu interior - I</center>\n",
    "\n",
    "<center><img src=\"1.3_luanda_hinterland_i_miller_7.5.png\" width=\"300\"></center>"
   ]
  },
  {
   "cell_type": "markdown",
   "metadata": {
    "editable": true,
    "slideshow": {
     "slide_type": "slide"
    },
    "tags": []
   },
   "source": [
    "### <center>Luanda e seu interior - II</center>\n",
    "\n",
    "<center><img src=\"1.3_luanda_hinterland_ii_miller_7.5.png\" width=\"300\"></center>"
   ]
  },
  {
   "cell_type": "markdown",
   "metadata": {
    "editable": true,
    "slideshow": {
     "slide_type": "slide"
    },
    "tags": []
   },
   "source": [
    "### <center>Exportações anuais de escravizados, Oeste da África Central, 1650-1830</center>\n",
    "\n",
    "<center><img src=\"1.3_annual_exports_slaved_miller_7.1.png\" width=\"700\"></center>"
   ]
  },
  {
   "cell_type": "markdown",
   "metadata": {
    "editable": true,
    "slideshow": {
     "slide_type": "slide"
    },
    "tags": []
   },
   "source": [
    "### <center>África Central Ocidental</center>\n",
    "\n",
    "<center><img src=\"1.1_western_central_afica_miller_1.1.png\" width=\"400\"></center>"
   ]
  },
  {
   "cell_type": "markdown",
   "metadata": {
    "editable": true,
    "slideshow": {
     "slide_type": "slide"
    },
    "tags": []
   },
   "source": [
    "### <center>Geografia da África Central Ocidental</center>\n",
    "\n",
    "<center><img src=\"1.1_geo_western_central_africa_miller_1.2.png\" width=\"350\"></center>"
   ]
  },
  {
   "cell_type": "markdown",
   "metadata": {
    "editable": true,
    "slideshow": {
     "slide_type": "slide"
    },
    "tags": []
   },
   "source": [
    "## Dados básicos\n",
    "\n",
    "A seguir, dados selecionados de Miller (1989), cap. 7."
   ]
  },
  {
   "cell_type": "markdown",
   "metadata": {
    "editable": true,
    "slideshow": {
     "slide_type": "slide"
    },
    "tags": []
   },
   "source": [
    "### População e demografia\n",
    "\n",
    "População estimada (mínima) da região: cerca de 10 milhões de pessoas.\n",
    "\n",
    "Perdas diretas para o tráfico transatlântico: 40.000 a.a. ou 0,4% da população. Em 30 anos (vida média): cerca de 12% da população exportada ao longo de uma geração.\n",
    "\n",
    "Deslocamentos internos e escravizados retidos na África: estimados em outros 40.000 por ano. Guerras, secas e epidemias (como varíola) contribuíram para deslocamentos e mortalidade, especialmente nas décadas de 1780–1790."
   ]
  },
  {
   "cell_type": "markdown",
   "metadata": {
    "editable": true,
    "slideshow": {
     "slide_type": "slide"
    },
    "tags": []
   },
   "source": [
    "### Número de escravizados - Benguela (sul)\n",
    "\n",
    "Antes de 1730: 1.000–2.000 escravizados embarcados a.a.; pico em 1780s–1790s: 7.000–8.000 a.a. durante a grande seca de 1785–1794.\n",
    "\n",
    "Após 1800-1810: caiu para ⅓ a ½ desse pico, ou seja, entre 2.500 e 4.000. Causas do declínio: declínio da população por fome, guerras e epidemias; redirecionamento do comércio para Luanda e o norte.\n",
    "\n",
    "Anos 1830–1840: Benguela se reintegra ao comércio ilegal de escravizados, depois no comércio de marfim, cera e borracha."
   ]
  },
  {
   "cell_type": "markdown",
   "metadata": {
    "editable": true,
    "slideshow": {
     "slide_type": "slide"
    },
    "tags": []
   },
   "source": [
    "### Número de escravizados - Luanda (centro)\n",
    "\n",
    "Século XVIII: média estável de 8.000–10.000 escravizados a.a. Após 1800: aumento modesto, com flutuações.\n",
    "\n",
    "Crescimento entre 1817–1822, dada a tentativa de retorno da Metrópole ao comércio. Queda na década de 1820. \n",
    "\n",
    "Fontes principais de cativos: vale do rio Kwango (especialmente Kasanje), margens do alto Kwanza e mais tarde Lunda."
   ]
  },
  {
   "cell_type": "markdown",
   "metadata": {
    "editable": true,
    "slideshow": {
     "slide_type": "slide"
    },
    "tags": []
   },
   "source": [
    "### Número de escravizados - Loango (norte)\n",
    "\n",
    "Início do século XVIII: poucos milhares por ano.\n",
    "\n",
    "Final do século XVIII (anos 1790): 15.000 escravizados por ano, antes de cair bruscamente no início da década de 1790 devido à retirada francesa do comércio.\n",
    "\n",
    "Após 1809 até 1830: retomada com portugueses ocupando o espaço deixado pelos britânicos."
   ]
  },
  {
   "cell_type": "markdown",
   "metadata": {
    "editable": true,
    "slideshow": {
     "slide_type": "slide"
    },
    "tags": []
   },
   "source": [
    "### Britânicos e franceses\n",
    "\n",
    "Na década de 1750 e 1760, navios britânicos adquiriam escravizados ao sul do rio Kwanza, somando aproximadamente 1.000 cativos ao ano.\n",
    "\n",
    "Os franceses expandiram esse comércio entre as décadas de 1770 e 1780, chegando a 3.000 a 5.000 africanos ao ano somente por meio de contrabando em Benguela em seus anos de pico antes de 1792.\n",
    "\n",
    "Juntos, navios franceses e britânicos embarcaram até 10.000 africanos anualmente entre 1790 e 1792."
   ]
  },
  {
   "cell_type": "markdown",
   "metadata": {
    "editable": true,
    "jp-MarkdownHeadingCollapsed": true,
    "slideshow": {
     "slide_type": "slide"
    },
    "tags": []
   },
   "source": [
    "### Número global de escravizados para o tráfico transatlântico\n",
    "\n",
    "Início do século XVIII: entre 12.000 e 15.000 escravizados na costa angolana.\n",
    "\n",
    "Pico do comércio nos anos 1870-1890: total combinado de Luanda + Benguela + Loango chegou a 40.000 escravizados por ano. \n",
    "\n",
    "Após 1800: leve declínio, mas comércio ainda intenso entre 30.000 e 35.000 a.a. até 1830. Área de origem dos cativos se expandiu para o interior: florestas, savanas ao norte e sul, até o Zambeze e deserto do Kalahari."
   ]
  },
  {
   "cell_type": "markdown",
   "metadata": {
    "editable": true,
    "jp-MarkdownHeadingCollapsed": true,
    "slideshow": {
     "slide_type": "slide"
    },
    "tags": []
   },
   "source": [
    "### Preços dos escravizados em Luanda\n",
    "\n",
    "Preços dobraram na década de 1610 e, depois, aumentaram 50% após as guerras internas da década de 1680.\n",
    "\n",
    "No início do século XVIII, após guerras e disputas locais, os preços aumentaram mais de 50% devido à demanda das minas de ouro no Brasil.\n",
    "\n",
    "Na década de 1750, nova duplicação dos preços dos escravizados tanto em Kasanje quanto em Loango, impulsionada pela demanda britânica e francesa."
   ]
  },
  {
   "cell_type": "markdown",
   "metadata": {
    "editable": true,
    "slideshow": {
     "slide_type": "slide"
    },
    "tags": []
   },
   "source": [
    "### Preços, mercadorias e crédito europeu\n",
    "\n",
    "Guerra, fome e auto-venda de africanos pressionados pela fome baixaram o custo de aquisição.\n",
    "\n",
    "Sequestro por dívidas nas zonas estabilizadas aumentou o custo, pois exigia investimento prévio em crédito e aparato judicial.\n",
    "\n",
    "Dependência de crédito europeu: financiamento externo cresceu no século XVIII. Empréstimos de produtos europeus usados como forma de exigir reembolso em cativos."
   ]
  },
  {
   "cell_type": "markdown",
   "metadata": {
    "editable": true,
    "slideshow": {
     "slide_type": "slide"
    },
    "tags": []
   },
   "source": [
    "### Agentes do tráfico transatlântico - africanos e portugueses\n",
    "\n",
    "Reinos e estados africanos: Kasanje, Lunda, Kongo, ViIi, entre outros, participaram como produtores, mediadores e redistribuidores do comércio de mercadorias e pessoas.\n",
    "\n",
    "Comerciantes e transportadores africanos operavam rotas flexíveis, adaptando-se à demanda europeia e às crises locais.\n",
    "\n",
    "Portugueses metropolitanos: baseados em Luanda, perderam espaço para a concorrência francesa, britânica e, depois, brasileira."
   ]
  },
  {
   "cell_type": "markdown",
   "metadata": {
    "editable": true,
    "slideshow": {
     "slide_type": "slide"
    },
    "tags": []
   },
   "source": [
    "### Agentes - franceses, britânicos e brasileiros\n",
    "\n",
    "Franceses e britânicos: aumentaram presença entre 1750–1790. \n",
    "\n",
    "Saída em 1792 (França) e 1808 (Reino Unido) abriu espaço para o domínio luso-brasileiro.\n",
    "\n",
    "Brasileiros: tornaram-se dominantes em Benguela e, após 1809, em Luanda."
   ]
  },
  {
   "cell_type": "markdown",
   "metadata": {
    "editable": true,
    "slideshow": {
     "slide_type": "slide"
    },
    "tags": []
   },
   "source": [
    "## Questões\n",
    "\n",
    "Quais as diferenças principais do sistema de sequestro de escravizados no oeste da África Central em comparação com o estabelecido no período posterior, no século XVIII e primeira metade do século XIX, quando a metrópole portuguesa consolidou suas redes de comércio sobretudo em Luanda?\n",
    "\n",
    "Como a saída dos franceses em 1792 e dos britânicos em 1808 reconfigurou o comércio atlântico de escravizados no Oeste da África Central, especialmente nas áreas de Luanda, Benguela e Loango?\n",
    "\n",
    "Durante a grande seca de 1785–1794, qual foi o impacto demográfico e econômico no porto de Benguela, em termos de número de escravizados exportados e dos efeitos de fome, guerras e epidemias na região?"
   ]
  },
  {
   "cell_type": "markdown",
   "metadata": {
    "editable": true,
    "slideshow": {
     "slide_type": "subslide"
    },
    "tags": []
   },
   "source": [
    "Em que medida o crédito europeu e o financiamento externo foram decisivos para a expansão do tráfico - e como isso se relacionou com os reinos africanos de Kasanje e Lunda?\n",
    "\n",
    "Miller (1989) discute a relação entre crises ecológicas (como secas) e avanços da fronteira da escravização ligada ao tráfico transatlântico. De que forma essas crises influenciavam os preços dos escravizados e a disponibilidade de cativos para exportação?"
   ]
  }
 ],
 "metadata": {
  "celltoolbar": "Slideshow",
  "kernelspec": {
   "display_name": "Python 3 (ipykernel)",
   "language": "python",
   "name": "python3"
  },
  "language_info": {
   "codemirror_mode": {
    "name": "ipython",
    "version": 3
   },
   "file_extension": ".py",
   "mimetype": "text/x-python",
   "name": "python",
   "nbconvert_exporter": "python",
   "pygments_lexer": "ipython3",
   "version": "3.9.23"
  },
  "toc": {
   "base_numbering": 1,
   "nav_menu": {},
   "number_sections": false,
   "sideBar": true,
   "skip_h1_title": true,
   "title_cell": "Table of Contents",
   "title_sidebar": "Contents",
   "toc_cell": false,
   "toc_position": {},
   "toc_section_display": true,
   "toc_window_display": false
  }
 },
 "nbformat": 4,
 "nbformat_minor": 4
}
